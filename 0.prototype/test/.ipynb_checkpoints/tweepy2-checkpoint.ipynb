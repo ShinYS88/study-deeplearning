{
 "cells": [
  {
   "cell_type": "code",
   "execution_count": 3,
   "metadata": {},
   "outputs": [],
   "source": [
    "import pandas as pd\n",
    "import numpy as np\n",
    "import matplotlib.pyplot as plt\n",
    "\n",
    "import warnings\n",
    "\n",
    "warnings.filterwarnings(\"ignore\")\n",
    "\n",
    "import tweepy\n",
    "import time\n",
    "\n",
    "CONSUMER_KEY = 'EcSE1SxmnUjo2a0mQmZfyLZ4w'\n",
    "CONSUMER_SECRET = 'BUYFW8ECMwNwE4V6BpyeogOh5dQldbcKahCD8Oqg679XOkVnrM'\n",
    "ACCESS_TOKEN_KEY = '1307913079900913664-Fd3tREVrgEtib6vneIi68G4FVb5zmg'\n",
    "ACCESS_TOKEN_SECRET = 'wwj57rvZLOP5axgYbp3Iwni6pfgmWsIakFmigb96GEgI3'\n",
    "\n",
    "# 개인정보 인증 요청\n",
    "auth = tweepy.OAuthHandler(CONSUMER_KEY, CONSUMER_SECRET)\n",
    "\n",
    "#인증 수행요청\n",
    "auth.set_access_token(ACCESS_TOKEN_KEY, ACCESS_TOKEN_SECRET)\n",
    "\n",
    "api = tweepy.API(auth, wait_on_rate_limit=True, wait_on_rate_limit_notify=True)\n",
    "\n",
    "# api레퍼런스  http://docs.tweepy.org/ko/latest/api.html#search-methods"
   ]
  },
  {
   "cell_type": "code",
   "execution_count": 4,
   "metadata": {},
   "outputs": [
    {
     "name": "stdout",
     "output_type": "stream",
     "text": [
      "1000개 수집 중\n",
      "2000개 수집 중\n",
      "3000개 수집 중\n"
     ]
    },
    {
     "ename": "KeyboardInterrupt",
     "evalue": "",
     "output_type": "error",
     "traceback": [
      "\u001b[1;31m---------------------------------------------------------------------------\u001b[0m",
      "\u001b[1;31mKeyboardInterrupt\u001b[0m                         Traceback (most recent call last)",
      "\u001b[1;32m<ipython-input-4-6d6f48a09dd5>\u001b[0m in \u001b[0;36m<module>\u001b[1;34m\u001b[0m\n\u001b[0;32m     32\u001b[0m             \u001b[0mdf\u001b[0m \u001b[1;33m=\u001b[0m \u001b[0mdf\u001b[0m\u001b[1;33m.\u001b[0m\u001b[0mdrop_duplicates\u001b[0m\u001b[1;33m(\u001b[0m\u001b[0msubset\u001b[0m\u001b[1;33m=\u001b[0m\u001b[1;34m'본문'\u001b[0m\u001b[1;33m)\u001b[0m\u001b[1;33m\u001b[0m\u001b[1;33m\u001b[0m\u001b[0m\n\u001b[0;32m     33\u001b[0m             \u001b[0mdf\u001b[0m\u001b[1;33m.\u001b[0m\u001b[0mto_csv\u001b[0m\u001b[1;33m(\u001b[0m\u001b[1;34mf'tweet_temp999.csv'\u001b[0m\u001b[1;33m,\u001b[0m \u001b[0mindex\u001b[0m\u001b[1;33m=\u001b[0m\u001b[1;32mFalse\u001b[0m\u001b[1;33m)\u001b[0m\u001b[1;33m\u001b[0m\u001b[1;33m\u001b[0m\u001b[0m\n\u001b[1;32m---> 34\u001b[1;33m         \u001b[0mtime\u001b[0m\u001b[1;33m.\u001b[0m\u001b[0msleep\u001b[0m\u001b[1;33m(\u001b[0m\u001b[1;36m0.1\u001b[0m\u001b[1;33m)\u001b[0m\u001b[1;33m\u001b[0m\u001b[1;33m\u001b[0m\u001b[0m\n\u001b[0m\u001b[0;32m     35\u001b[0m     \u001b[1;32mexcept\u001b[0m \u001b[0mtweepy\u001b[0m\u001b[1;33m.\u001b[0m\u001b[0mTweepError\u001b[0m\u001b[1;33m:\u001b[0m\u001b[1;33m\u001b[0m\u001b[1;33m\u001b[0m\u001b[0m\n\u001b[0;32m     36\u001b[0m         \u001b[0mtime\u001b[0m\u001b[1;33m.\u001b[0m\u001b[0msleep\u001b[0m\u001b[1;33m(\u001b[0m\u001b[1;36m60\u001b[0m \u001b[1;33m*\u001b[0m \u001b[1;36m15\u001b[0m\u001b[1;33m)\u001b[0m\u001b[1;33m\u001b[0m\u001b[1;33m\u001b[0m\u001b[0m\n",
      "\u001b[1;31mKeyboardInterrupt\u001b[0m: "
     ]
    }
   ],
   "source": [
    "columns = ['생성일', '본문']\n",
    "df = pd.DataFrame(columns=columns)\n",
    "\n",
    "# 1 = 100개 / 10 = 1000개\n",
    "pagesize = 1000\n",
    "\n",
    "keyword = '손흥민 since:2020-09-20 until:2020-09-22'\n",
    "location = \"%s,%s,%s\" % ('36.286979', '127.334510', \"370km\")  # 검색기준(대한민국 중심) 좌표, 반지름  \n",
    "cursor = tweepy.Cursor(api.search, \n",
    "#                        q=keyword,\n",
    "                       since='2020-09-01', # 2015-01-01 이후에 작성된 트윗들로 가져옴\n",
    "                       count=100,  # 페이지당 반환할 트위터 수 최대 100\n",
    "                       geocode=location,\n",
    "                       lang='ko', # 언어 설정\n",
    "#                        result_type='mixed', # mixed(default): 인기+실시간,  recent: 가장 최근,  popular: 가장 인기\n",
    "                       include_entities=True).items()   #.pages(pagesize) #가져올 페이지 수\n",
    "\n",
    "\n",
    "i=0\n",
    "while True:\n",
    "    try:\n",
    "        tweet = cursor.next()\n",
    "        tweet_text = tweet.text\n",
    "        created = tweet.created_at\n",
    "        row = [created, tweet_text]\n",
    "        series = pd.Series(row, index=df.columns)\n",
    "        df = df.append(series, ignore_index=True)\n",
    "        \n",
    "        i+=1\n",
    "        if(i%100==0): \n",
    "            print(f'{i}개 수집 중')\n",
    "            df = df.drop_duplicates(subset='본문')\n",
    "            df.to_csv(f'tweet_temp999.csv', index=False)\n",
    "            time.sleep(1)\n",
    "            \n",
    "    except tweepy.TweepError:\n",
    "        time.sleep(60 * 15)\n",
    "        print(f'{i}개 수집 일시 정지')\n",
    "        continue\n",
    "    except StopIteration:\n",
    "        print(f'{i}개 수집 중 - StopIteration')\n",
    "        break\n",
    "print(f'{i}개 수집 완료')"
   ]
  },
  {
   "cell_type": "code",
   "execution_count": null,
   "metadata": {},
   "outputs": [],
   "source": []
  }
 ],
 "metadata": {
  "kernelspec": {
   "display_name": "deep1:conda",
   "language": "python",
   "name": "deep1"
  },
  "language_info": {
   "codemirror_mode": {
    "name": "ipython",
    "version": 3
   },
   "file_extension": ".py",
   "mimetype": "text/x-python",
   "name": "python",
   "nbconvert_exporter": "python",
   "pygments_lexer": "ipython3",
   "version": "3.8.5"
  }
 },
 "nbformat": 4,
 "nbformat_minor": 2
}
