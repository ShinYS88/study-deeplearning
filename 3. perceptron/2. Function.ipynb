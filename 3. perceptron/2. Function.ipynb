{
 "cells": [
  {
   "cell_type": "code",
   "execution_count": 1,
   "metadata": {},
   "outputs": [],
   "source": [
    "import matplotlib.pylab as plt\n",
    "import numpy as np"
   ]
  },
  {
   "cell_type": "markdown",
   "metadata": {},
   "source": [
    "### 3.2.3 계단 함수의 그래프\n",
    "-----"
   ]
  },
  {
   "cell_type": "code",
   "execution_count": 18,
   "metadata": {},
   "outputs": [],
   "source": [
    "def step_function(x):\n",
    "    return np.array(x>0, dtype=np.int)"
   ]
  },
  {
   "cell_type": "code",
   "execution_count": 19,
   "metadata": {},
   "outputs": [
    {
     "data": {
      "image/png": "[encoded data removed]",
      "text/plain": [
       "<Figure size 432x288 with 1 Axes>"
      ]
     },
     "metadata": {
      "needs_background": "light"
     },
     "output_type": "display_data"
    }
   ],
   "source": [
    "x = np.arange(-5.0, 5.0, 0.1)\n",
    "y = step_function(x)\n",
    "plt.plot(x,y)\n",
    "plt.ylim(-0.1, 1.1)\n",
    "plt.show()"
   ]
  },
  {
   "cell_type": "code",
   "execution_count": 20,
   "metadata": {},
   "outputs": [
    {
     "name": "stdout",
     "output_type": "stream",
     "text": [
      "[-5.00000000e+00 -4.90000000e+00 -4.80000000e+00 -4.70000000e+00\n",
      " -4.60000000e+00 -4.50000000e+00 -4.40000000e+00 -4.30000000e+00\n",
      " -4.20000000e+00 -4.10000000e+00 -4.00000000e+00 -3.90000000e+00\n",
      " -3.80000000e+00 -3.70000000e+00 -3.60000000e+00 -3.50000000e+00\n",
      " -3.40000000e+00 -3.30000000e+00 -3.20000000e+00 -3.10000000e+00\n",
      " -3.00000000e+00 -2.90000000e+00 -2.80000000e+00 -2.70000000e+00\n",
      " -2.60000000e+00 -2.50000000e+00 -2.40000000e+00 -2.30000000e+00\n",
      " -2.20000000e+00 -2.10000000e+00 -2.00000000e+00 -1.90000000e+00\n",
      " -1.80000000e+00 -1.70000000e+00 -1.60000000e+00 -1.50000000e+00\n",
      " -1.40000000e+00 -1.30000000e+00 -1.20000000e+00 -1.10000000e+00\n",
      " -1.00000000e+00 -9.00000000e-01 -8.00000000e-01 -7.00000000e-01\n",
      " -6.00000000e-01 -5.00000000e-01 -4.00000000e-01 -3.00000000e-01\n",
      " -2.00000000e-01 -1.00000000e-01 -1.77635684e-14  1.00000000e-01\n",
      "  2.00000000e-01  3.00000000e-01  4.00000000e-01  5.00000000e-01\n",
      "  6.00000000e-01  7.00000000e-01  8.00000000e-01  9.00000000e-01\n",
      "  1.00000000e+00  1.10000000e+00  1.20000000e+00  1.30000000e+00\n",
      "  1.40000000e+00  1.50000000e+00  1.60000000e+00  1.70000000e+00\n",
      "  1.80000000e+00  1.90000000e+00  2.00000000e+00  2.10000000e+00\n",
      "  2.20000000e+00  2.30000000e+00  2.40000000e+00  2.50000000e+00\n",
      "  2.60000000e+00  2.70000000e+00  2.80000000e+00  2.90000000e+00\n",
      "  3.00000000e+00  3.10000000e+00  3.20000000e+00  3.30000000e+00\n",
      "  3.40000000e+00  3.50000000e+00  3.60000000e+00  3.70000000e+00\n",
      "  3.80000000e+00  3.90000000e+00  4.00000000e+00  4.10000000e+00\n",
      "  4.20000000e+00  4.30000000e+00  4.40000000e+00  4.50000000e+00\n",
      "  4.60000000e+00  4.70000000e+00  4.80000000e+00  4.90000000e+00]\n"
     ]
    }
   ],
   "source": [
    "print(x)"
   ]
  },
  {
   "cell_type": "code",
   "execution_count": 21,
   "metadata": {},
   "outputs": [
    {
     "name": "stdout",
     "output_type": "stream",
     "text": [
      "[0 0 0 0 0 0 0 0 0 0 0 0 0 0 0 0 0 0 0 0 0 0 0 0 0 0 0 0 0 0 0 0 0 0 0 0 0\n",
      " 0 0 0 0 0 0 0 0 0 0 0 0 0 0 1 1 1 1 1 1 1 1 1 1 1 1 1 1 1 1 1 1 1 1 1 1 1\n",
      " 1 1 1 1 1 1 1 1 1 1 1 1 1 1 1 1 1 1 1 1 1 1 1 1 1 1]\n"
     ]
    }
   ],
   "source": [
    "print(y)"
   ]
  },
  {
   "cell_type": "markdown",
   "metadata": {},
   "source": [
    "### 3.2.4 시그모이드 함수 구현하기\n",
    "-----"
   ]
  },
  {
   "cell_type": "code",
   "execution_count": 22,
   "metadata": {},
   "outputs": [],
   "source": [
    "def sigmoid(x):\n",
    "    return 1/(1+np.exp(-x))"
   ]
  },
  {
   "cell_type": "code",
   "execution_count": 23,
   "metadata": {},
   "outputs": [
    {
     "data": {
      "text/plain": [
       "array([0.26894142, 0.73105858, 0.88079708])"
      ]
     },
     "execution_count": 23,
     "metadata": {},
     "output_type": "execute_result"
    }
   ],
   "source": [
    "x = np.array([-1.0, 1.0, 2.0])\n",
    "sigmoid(x)"
   ]
  },
  {
   "cell_type": "code",
   "execution_count": 24,
   "metadata": {},
   "outputs": [
    {
     "data": {
      "text/plain": [
       "array([2., 3., 4.])"
      ]
     },
     "execution_count": 24,
     "metadata": {},
     "output_type": "execute_result"
    }
   ],
   "source": [
    "t = np.array([1.0, 2.0, 3.0])\n",
    "1.0 + t"
   ]
  },
  {
   "cell_type": "code",
   "execution_count": 25,
   "metadata": {},
   "outputs": [
    {
     "data": {
      "text/plain": [
       "array([1.        , 0.5       , 0.33333333])"
      ]
     },
     "execution_count": 25,
     "metadata": {},
     "output_type": "execute_result"
    }
   ],
   "source": [
    "1.0 / t"
   ]
  },
  {
   "cell_type": "markdown",
   "metadata": {},
   "source": [
    "### 시그모이드 함수 그래프 그리기"
   ]
  },
  {
   "cell_type": "code",
   "execution_count": 28,
   "metadata": {},
   "outputs": [
    {
     "data": {
      "image/png": "[encoded data removed]",
      "text/plain": [
       "<Figure size 432x288 with 1 Axes>"
      ]
     },
     "metadata": {
      "needs_background": "light"
     },
     "output_type": "display_data"
    }
   ],
   "source": [
    "x = np.arange(-5.0, 5.0, 0.1)\n",
    "y2 = sigmoid(x)\n",
    "plt.plot(x, y, linestyle=\"--\", label=\"stairs\")\n",
    "plt.plot(x, y2, label=\"sigmoid\")\n",
    "plt.legend()\n",
    "plt.ylim(-0.1, 1.1)\n",
    "plt.show()"
   ]
  },
  {
   "cell_type": "markdown",
   "metadata": {},
   "source": [
    "### 3.2.7 ReLU 함수\n",
    "-----\n",
    "- 0을 넘으면 그 입력을 그대로 출력하고, 0이하면 0을 출력하는 함수"
   ]
  },
  {
   "cell_type": "code",
   "execution_count": 29,
   "metadata": {},
   "outputs": [],
   "source": [
    "def relu(x):\n",
    "    return np.maximum(0, x)"
   ]
  },
  {
   "cell_type": "code",
   "execution_count": 32,
   "metadata": {},
   "outputs": [
    {
     "data": {
      "text/plain": [
       "array([0, 1, 2, 3])"
      ]
     },
     "execution_count": 32,
     "metadata": {},
     "output_type": "execute_result"
    }
   ],
   "source": [
    "x = np.array([-1,1,2,3])\n",
    "relu(x)"
   ]
  },
  {
   "cell_type": "markdown",
   "metadata": {},
   "source": [
    "### 3.3.1 다차원 배열\n",
    "-----"
   ]
  },
  {
   "cell_type": "code",
   "execution_count": null,
   "metadata": {},
   "outputs": [],
   "source": []
  }
 ],
 "metadata": {
  "kernelspec": {
   "display_name": "Python 3",
   "language": "python",
   "name": "python3"
  },
  "language_info": {
   "codemirror_mode": {
    "name": "ipython",
    "version": 3
   },
   "file_extension": ".py",
   "mimetype": "text/x-python",
   "name": "python",
   "nbconvert_exporter": "python",
   "pygments_lexer": "ipython3",
   "version": "3.8.5"
  }
 },
 "nbformat": 4,
 "nbformat_minor": 4
}
