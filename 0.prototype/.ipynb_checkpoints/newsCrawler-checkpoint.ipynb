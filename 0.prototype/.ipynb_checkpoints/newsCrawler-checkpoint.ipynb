{
 "cells": [
  {
   "cell_type": "markdown",
   "metadata": {},
   "source": [
    "# 파일 수집기"
   ]
  },
  {
   "cell_type": "code",
   "execution_count": 4,
   "metadata": {},
   "outputs": [
    {
     "data": {
      "text/plain": [
       "115"
      ]
     },
     "execution_count": 4,
     "metadata": {},
     "output_type": "execute_result"
    }
   ],
   "source": [
    "import pandas as pd\n",
    "import numpy as np\n",
    "\n",
    "import json\n",
    "import os\n",
    "import glob\n",
    "from IPython.display import clear_output\n",
    "\n",
    "# path_dir = 'data/news/2020-07/*'   #뉴스\n",
    "path_dir = 'data/tweet/2020-09/*'   #트위터\n",
    "file_list = glob.glob(path_dir)\n",
    "file_list_json = []\n",
    "# file_list_json.extend([file for file in file_list if file.endswith(\".json\")])\n",
    "\n",
    "\n",
    "for path in file_list :\n",
    "    file_list2 = glob.glob(path+'/*')\n",
    "    file_list_json.extend([file for file in file_list2 if file.endswith(\".csv\")])   #트위터\n",
    "#     file_list_json.extend([file for file in file_list2 if file.endswith(\".json\")])   #뉴스\n",
    "    \n",
    "    # 1:59시작 / \n",
    "\n",
    "    \n",
    "len(file_list_json)"
   ]
  },
  {
   "cell_type": "markdown",
   "metadata": {},
   "source": [
    "## 1) 트위터 저장"
   ]
  },
  {
   "cell_type": "code",
   "execution_count": 27,
   "metadata": {},
   "outputs": [
    {
     "name": "stdout",
     "output_type": "stream",
     "text": [
      "running...   [110 / 115] (95.652 %)\n"
     ]
    },
    {
     "data": {
      "text/html": [
       "<div>\n",
       "<style scoped>\n",
       "    .dataframe tbody tr th:only-of-type {\n",
       "        vertical-align: middle;\n",
       "    }\n",
       "\n",
       "    .dataframe tbody tr th {\n",
       "        vertical-align: top;\n",
       "    }\n",
       "\n",
       "    .dataframe thead th {\n",
       "        text-align: right;\n",
       "    }\n",
       "</style>\n",
       "<table border=\"1\" class=\"dataframe\">\n",
       "  <thead>\n",
       "    <tr style=\"text-align: right;\">\n",
       "      <th></th>\n",
       "      <th>생성일</th>\n",
       "      <th>본문</th>\n",
       "    </tr>\n",
       "  </thead>\n",
       "  <tbody>\n",
       "    <tr>\n",
       "      <th>0</th>\n",
       "      <td>2020-09-23 10:10:53</td>\n",
       "      <td>RT @M2MPD: 44초 짜리 티저 44시간째 돌려보는중..\\n  ㄴ 이거 방금 ...</td>\n",
       "    </tr>\n",
       "    <tr>\n",
       "      <th>1</th>\n",
       "      <td>2020-09-23 10:10:52</td>\n",
       "      <td>RT @treasuremembers: 여러분...거울에 있는 저만 보세요!!!\\n다...</td>\n",
       "    </tr>\n",
       "    <tr>\n",
       "      <th>2</th>\n",
       "      <td>2020-09-23 10:10:52</td>\n",
       "      <td>RT @bts_love_myself: 유엔 총회에 참여한 방탄소년단의 메시지를 아래...</td>\n",
       "    </tr>\n",
       "    <tr>\n",
       "      <th>3</th>\n",
       "      <td>2020-09-23 10:10:52</td>\n",
       "      <td>RT @iyagideul: [비터애플/BL] 제이윰 작가님의 &amp;lt;여우, 꽃피다&amp;...</td>\n",
       "    </tr>\n",
       "    <tr>\n",
       "      <th>4</th>\n",
       "      <td>2020-09-23 10:10:52</td>\n",
       "      <td>RT @hellokoook: 이 짤에서 못나가겠네... https://t.co/zC...</td>\n",
       "    </tr>\n",
       "    <tr>\n",
       "      <th>...</th>\n",
       "      <td>...</td>\n",
       "      <td>...</td>\n",
       "    </tr>\n",
       "    <tr>\n",
       "      <th>2993</th>\n",
       "      <td>2020-09-23 10:10:53</td>\n",
       "      <td>제발 동해안더비 이기게 해주세요</td>\n",
       "    </tr>\n",
       "    <tr>\n",
       "      <th>2994</th>\n",
       "      <td>2020-09-23 10:10:53</td>\n",
       "      <td>RT @ATEEZofficial: [🎬] ATEEZ(에이티즈) In School B...</td>\n",
       "    </tr>\n",
       "    <tr>\n",
       "      <th>2995</th>\n",
       "      <td>2020-09-23 10:10:53</td>\n",
       "      <td>꺄! 그림 대박이에요!! 짱구황이야!!! https://t.co/UgfV0Y89Ab</td>\n",
       "    </tr>\n",
       "    <tr>\n",
       "      <th>2996</th>\n",
       "      <td>2020-09-23 10:10:53</td>\n",
       "      <td>RT @leelucid1: @my_lovelyjin 와 외랑둥이 반라둥이 최고에요💜...</td>\n",
       "    </tr>\n",
       "    <tr>\n",
       "      <th>2997</th>\n",
       "      <td>2020-09-23 10:10:53</td>\n",
       "      <td>@markitfact 벌써 머리아파</td>\n",
       "    </tr>\n",
       "  </tbody>\n",
       "</table>\n",
       "<p>511817 rows × 2 columns</p>\n",
       "</div>"
      ],
      "text/plain": [
       "                      생성일                                                 본문\n",
       "0     2020-09-23 10:10:53  RT @M2MPD: 44초 짜리 티저 44시간째 돌려보는중..\\n  ㄴ 이거 방금 ...\n",
       "1     2020-09-23 10:10:52  RT @treasuremembers: 여러분...거울에 있는 저만 보세요!!!\\n다...\n",
       "2     2020-09-23 10:10:52  RT @bts_love_myself: 유엔 총회에 참여한 방탄소년단의 메시지를 아래...\n",
       "3     2020-09-23 10:10:52  RT @iyagideul: [비터애플/BL] 제이윰 작가님의 &lt;여우, 꽃피다&...\n",
       "4     2020-09-23 10:10:52  RT @hellokoook: 이 짤에서 못나가겠네... https://t.co/zC...\n",
       "...                   ...                                                ...\n",
       "2993  2020-09-23 10:10:53                                  제발 동해안더비 이기게 해주세요\n",
       "2994  2020-09-23 10:10:53  RT @ATEEZofficial: [🎬] ATEEZ(에이티즈) In School B...\n",
       "2995  2020-09-23 10:10:53     꺄! 그림 대박이에요!! 짱구황이야!!! https://t.co/UgfV0Y89Ab\n",
       "2996  2020-09-23 10:10:53  RT @leelucid1: @my_lovelyjin 와 외랑둥이 반라둥이 최고에요💜...\n",
       "2997  2020-09-23 10:10:53                                @markitfact 벌써 머리아파\n",
       "\n",
       "[511817 rows x 2 columns]"
      ]
     },
     "execution_count": 27,
     "metadata": {},
     "output_type": "execute_result"
    }
   ],
   "source": [
    "### 문장별로 저장\n",
    "\n",
    "columns = ['생성일', '본문']\n",
    "df = pd.DataFrame(columns=columns)\n",
    "df_arr = []\n",
    "\n",
    "for ii, file_json in enumerate(file_list_json) :\n",
    "    \n",
    "    i = ii+1\n",
    "    tmp_df = pd.read_csv(file_json)\n",
    "    df_arr.append(tmp_df)\n",
    "    \n",
    "    if(i%10 == 0) :\n",
    "        clear_output(wait=True)\n",
    "        print(f'running...   [{i} / {len(file_list_json)}] ({round((i/len(file_list_json))*100, 3)} %)')\n",
    "#         if(round((i/len(file_list_json))*100, 3) > 10) :\n",
    "#             break\n",
    "\n",
    "    \n",
    "df = pd.concat(df_arr)\n",
    "df\n"
   ]
  },
  {
   "cell_type": "code",
   "execution_count": 29,
   "metadata": {},
   "outputs": [
    {
     "name": "stdout",
     "output_type": "stream",
     "text": [
      "(337518, 2)\n"
     ]
    }
   ],
   "source": [
    "#중복제거\n",
    "df = df.drop_duplicates(subset='본문')\n",
    "print(df.shape)\n",
    "\n",
    "# csv파일로 저장\n",
    "df.to_csv('tweet_data_ori_0925.csv', index=False)"
   ]
  },
  {
   "cell_type": "raw",
   "metadata": {},
   "source": [
    "## csv merged 함수 테스트\n",
    "\n",
    "def get_merged_csv(flist, **kwargs):\n",
    "       return pd.concat([pd.read_csv(f, **kwargs) for f in flist], ignore_index=True)\n",
    "\n",
    "path = 'tweet'\n",
    "fmask = os.path.join(path, '*.csv')\n",
    "\n",
    "df = get_merged_csv(glob.glob(fmask), index_col=None, usecols=['생성일', '본문'])"
   ]
  },
  {
   "cell_type": "markdown",
   "metadata": {},
   "source": [
    "## 2) 뉴스 : 문장별로 저장"
   ]
  },
  {
   "cell_type": "code",
   "execution_count": 10,
   "metadata": {},
   "outputs": [
    {
     "name": "stdout",
     "output_type": "stream",
     "text": [
      "running...   [2510 / 25053] (10.019 %)\n"
     ]
    },
    {
     "data": {
      "text/html": [
       "<div>\n",
       "<style scoped>\n",
       "    .dataframe tbody tr th:only-of-type {\n",
       "        vertical-align: middle;\n",
       "    }\n",
       "\n",
       "    .dataframe tbody tr th {\n",
       "        vertical-align: top;\n",
       "    }\n",
       "\n",
       "    .dataframe thead th {\n",
       "        text-align: right;\n",
       "    }\n",
       "</style>\n",
       "<table border=\"1\" class=\"dataframe\">\n",
       "  <thead>\n",
       "    <tr style=\"text-align: right;\">\n",
       "      <th></th>\n",
       "      <th>본문</th>\n",
       "    </tr>\n",
       "  </thead>\n",
       "  <tbody>\n",
       "    <tr>\n",
       "      <th>0</th>\n",
       "      <td>신종 코로나바이러스 감염증(코로나19) 유행 이후 제약·바이오 업체의 '코로나19 ...</td>\n",
       "    </tr>\n",
       "    <tr>\n",
       "      <th>1</th>\n",
       "      <td>1일 제약바이오업계에 따르면 업체들은 코로나19 신약 개발이나 약물 재창출 연구와 ...</td>\n",
       "    </tr>\n",
       "    <tr>\n",
       "      <th>2</th>\n",
       "      <td>포털에 이름이 올라가면 주가가 급등하는 현상을 노리는 것이다.</td>\n",
       "    </tr>\n",
       "    <tr>\n",
       "      <th>3</th>\n",
       "      <td>이에 제약사들은 전임상 단계인 동물실험이나 시험관 내 세포 실험(인 비트로) 중간결...</td>\n",
       "    </tr>\n",
       "    <tr>\n",
       "      <th>4</th>\n",
       "      <td>급기야 의약품 사용 승인이 미뤄졌지만, 자체 성능 평가는 훌륭했다는 자기변명 식의 ...</td>\n",
       "    </tr>\n",
       "  </tbody>\n",
       "</table>\n",
       "</div>"
      ],
      "text/plain": [
       "                                                  본문\n",
       "0  신종 코로나바이러스 감염증(코로나19) 유행 이후 제약·바이오 업체의 '코로나19 ...\n",
       "1  1일 제약바이오업계에 따르면 업체들은 코로나19 신약 개발이나 약물 재창출 연구와 ...\n",
       "2                 포털에 이름이 올라가면 주가가 급등하는 현상을 노리는 것이다.\n",
       "3  이에 제약사들은 전임상 단계인 동물실험이나 시험관 내 세포 실험(인 비트로) 중간결...\n",
       "4  급기야 의약품 사용 승인이 미뤄졌지만, 자체 성능 평가는 훌륭했다는 자기변명 식의 ..."
      ]
     },
     "execution_count": 10,
     "metadata": {},
     "output_type": "execute_result"
    }
   ],
   "source": [
    "### 문장별로 저장\n",
    "\n",
    "columns = ['본문','형태소']\n",
    "df = pd.DataFrame(columns=columns)\n",
    "\n",
    "for ii, file_json in enumerate(file_list_json) :\n",
    "    \n",
    "    i = ii+1\n",
    "    \n",
    "    # with를 이용해 파일을 연다.\n",
    "    with open(file_json, encoding='utf-8') as json_file:\n",
    "        json_data = json.load(json_file)\n",
    "        for content in json_data['contents'] :\n",
    "            row = [content['text'],content['pos']]\n",
    "            series = pd.Series(row, index=df.columns)\n",
    "            df = df.append(series, ignore_index=True)\n",
    "            \n",
    "        if(i%10 == 0) :\n",
    "            clear_output(wait=True)\n",
    "            print(f'running...   [{i} / {len(file_list_json)}] ({round((i/len(file_list_json))*100, 3)} %)')\n",
    "            \n",
    "#             if(round((i/len(file_list_json))*100, 3) > 10) :\n",
    "#                 break\n",
    "\n",
    "df.head()"
   ]
  },
  {
   "cell_type": "markdown",
   "metadata": {},
   "source": [
    "## 3) 뉴스 : 뉴스별로 저장"
   ]
  },
  {
   "cell_type": "code",
   "execution_count": 5,
   "metadata": {},
   "outputs": [
    {
     "name": "stdout",
     "output_type": "stream",
     "text": [
      "running...   [30 / 21194] (0.142 %)\n"
     ]
    },
    {
     "data": {
      "text/html": [
       "<div>\n",
       "<style scoped>\n",
       "    .dataframe tbody tr th:only-of-type {\n",
       "        vertical-align: middle;\n",
       "    }\n",
       "\n",
       "    .dataframe tbody tr th {\n",
       "        vertical-align: top;\n",
       "    }\n",
       "\n",
       "    .dataframe thead th {\n",
       "        text-align: right;\n",
       "    }\n",
       "</style>\n",
       "<table border=\"1\" class=\"dataframe\">\n",
       "  <thead>\n",
       "    <tr style=\"text-align: right;\">\n",
       "      <th></th>\n",
       "      <th>본문</th>\n",
       "      <th>형태소</th>\n",
       "    </tr>\n",
       "  </thead>\n",
       "  <tbody>\n",
       "    <tr>\n",
       "      <th>0</th>\n",
       "      <td>인천해양경찰서(서장 신동삼)는 도서 지역 치안 강화를 위해 인천 중부경찰서와 지난...</td>\n",
       "      <td>인천해양경찰/NNG 서/JKB (/SS 서장/NNG 신동삼/NNG )/SS 는/J...</td>\n",
       "    </tr>\n",
       "    <tr>\n",
       "      <th>1</th>\n",
       "      <td>작년말 대비 두 배 가까이 늘어 지난달 26일 하룻새 4조 급증 SK바이오팜 청약...</td>\n",
       "      <td>작년/NNG 말/NNB 대비/NNG 두/MM 배/NNG 가까이/MAG 늘/VV 어...</td>\n",
       "    </tr>\n",
       "    <tr>\n",
       "      <th>2</th>\n",
       "      <td>［중부매일 서인석 기자］ 이차영 괴산군수가 1일 열린 직원조회에서 민선 7기 2년...</td>\n",
       "      <td>［/SL 중부매/NNG 이/VCP ㄹ/ETM 서인석/NNP 기자/NNG ］/SL ...</td>\n",
       "    </tr>\n",
       "    <tr>\n",
       "      <th>3</th>\n",
       "      <td>라임자산운용(라임)의 1조6000억원 펀드 환매 중단 사건을 수사 중인 검찰이 1...</td>\n",
       "      <td>라임자산운/NNG 용/XSN (/SS 라임/NNG )/SS 의/JKG 1/SN 조...</td>\n",
       "    </tr>\n",
       "    <tr>\n",
       "      <th>4</th>\n",
       "      <td>시모네타 소마루가 스위스 대통령 [EPA=연합뉴스 자료사진] . (제네바=연합뉴스...</td>\n",
       "      <td>시모네/NNG 하/XSA 다/EC 소마루/NNG 가/JKS 스위스/NNP 대통령/...</td>\n",
       "    </tr>\n",
       "  </tbody>\n",
       "</table>\n",
       "</div>"
      ],
      "text/plain": [
       "                                                  본문  \\\n",
       "0   인천해양경찰서(서장 신동삼)는 도서 지역 치안 강화를 위해 인천 중부경찰서와 지난...   \n",
       "1   작년말 대비 두 배 가까이 늘어 지난달 26일 하룻새 4조 급증 SK바이오팜 청약...   \n",
       "2   ［중부매일 서인석 기자］ 이차영 괴산군수가 1일 열린 직원조회에서 민선 7기 2년...   \n",
       "3   라임자산운용(라임)의 1조6000억원 펀드 환매 중단 사건을 수사 중인 검찰이 1...   \n",
       "4   시모네타 소마루가 스위스 대통령 [EPA=연합뉴스 자료사진] . (제네바=연합뉴스...   \n",
       "\n",
       "                                                 형태소  \n",
       "0   인천해양경찰/NNG 서/JKB (/SS 서장/NNG 신동삼/NNG )/SS 는/J...  \n",
       "1   작년/NNG 말/NNB 대비/NNG 두/MM 배/NNG 가까이/MAG 늘/VV 어...  \n",
       "2   ［/SL 중부매/NNG 이/VCP ㄹ/ETM 서인석/NNP 기자/NNG ］/SL ...  \n",
       "3   라임자산운/NNG 용/XSN (/SS 라임/NNG )/SS 의/JKG 1/SN 조...  \n",
       "4   시모네/NNG 하/XSA 다/EC 소마루/NNG 가/JKS 스위스/NNP 대통령/...  "
      ]
     },
     "execution_count": 5,
     "metadata": {},
     "output_type": "execute_result"
    }
   ],
   "source": [
    "#### 뉴스별로 저장\n",
    "\n",
    "columns = ['본문','형태소']\n",
    "df = pd.DataFrame(columns=columns)\n",
    "\n",
    "for ii, file_json in enumerate(file_list_json) :\n",
    "    \n",
    "    i = ii+1\n",
    "    \n",
    "    tmp_text = ''\n",
    "    tmp_pos = ''\n",
    "    \n",
    "    # with를 이용해 파일을 연다.\n",
    "    with open(file_json, encoding='utf-8') as json_file:\n",
    "        json_data = json.load(json_file)\n",
    "        for content in json_data['contents'] :\n",
    "            tmp_text += ' '+content['text']\n",
    "            tmp_pos += ' '+content['pos']\n",
    "            \n",
    "    row = [tmp_text, tmp_pos]\n",
    "    series = pd.Series(row, index=df.columns)\n",
    "    df = df.append(series, ignore_index=True)\n",
    "    \n",
    "    if(i%10 == 0) :\n",
    "        clear_output(wait=True)\n",
    "        print(f'running...   [{i} / {len(file_list_json)}] ({round((i/len(file_list_json))*100, 3)} %)')\n",
    "\n",
    "        #0.1프로 까지만 추출\n",
    "        if(round((i/len(file_list_json))*100, 3) > 0.1) :\n",
    "            break\n",
    "\n",
    "df.head()"
   ]
  },
  {
   "cell_type": "code",
   "execution_count": 6,
   "metadata": {},
   "outputs": [],
   "source": [
    "# csv파일로 저장\n",
    "df.to_csv('news_data_ori_0701_0705_sample.csv', index=False)"
   ]
  },
  {
   "cell_type": "code",
   "execution_count": 7,
   "metadata": {},
   "outputs": [
    {
     "data": {
      "text/plain": [
       "30"
      ]
     },
     "execution_count": 7,
     "metadata": {},
     "output_type": "execute_result"
    }
   ],
   "source": [
    "df.shape[0]"
   ]
  },
  {
   "cell_type": "code",
   "execution_count": null,
   "metadata": {},
   "outputs": [],
   "source": []
  }
 ],
 "metadata": {
  "kernelspec": {
   "display_name": "deep1:conda",
   "language": "python",
   "name": "deep1"
  },
  "language_info": {
   "codemirror_mode": {
    "name": "ipython",
    "version": 3
   },
   "file_extension": ".py",
   "mimetype": "text/x-python",
   "name": "python",
   "nbconvert_exporter": "python",
   "pygments_lexer": "ipython3",
   "version": "3.8.5"
  }
 },
 "nbformat": 4,
 "nbformat_minor": 2
}
