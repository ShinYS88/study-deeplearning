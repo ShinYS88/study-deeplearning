{
 "metadata": {
  "language_info": {
   "codemirror_mode": {
    "name": "ipython",
    "version": 3
   },
   "file_extension": ".py",
   "mimetype": "text/x-python",
   "name": "python",
   "nbconvert_exporter": "python",
   "pygments_lexer": "ipython3",
   "version": "3.8.5-final"
  },
  "orig_nbformat": 2,
  "kernelspec": {
   "name": "python_defaultSpec_1600656591025",
   "display_name": "Python 3.8.5 64-bit ('test1': conda)"
  }
 },
 "nbformat": 4,
 "nbformat_minor": 2,
 "cells": [
  {
   "cell_type": "code",
   "execution_count": 3,
   "metadata": {},
   "outputs": [],
   "source": [
    "%matplotlib inline"
   ]
  },
  {
   "cell_type": "code",
   "execution_count": 4,
   "metadata": {},
   "outputs": [],
   "source": [
    "import pandas as pd\n",
    "import numpy as np\n",
    "import matplotlib.pyplot as plt\n",
    "\n",
    "import warnings"
   ]
  },
  {
   "cell_type": "code",
   "execution_count": 5,
   "metadata": {},
   "outputs": [],
   "source": [
    "warnings.filterwarnings(\"ignore\")"
   ]
  },
  {
   "source": [
    "## 1. 데이터프레임 만들기 (csv 파일로 만들기)"
   ],
   "cell_type": "markdown",
   "metadata": {}
  },
  {
   "cell_type": "code",
   "execution_count": 6,
   "metadata": {
    "tags": []
   },
   "outputs": [],
   "source": [
    "testData = [\n",
    "{'create_dt':'2020-09-18', 'contents':'손흥민 의조선수 국대 선수님들 파팅요!'},\n",
    "{'create_dt':'2020-09-01', 'contents':'손흥민 만두 먹고 왔다. test contents'},\n",
    "{'create_dt':'2020-09-02', 'contents':'손흥민은 만두를 싫어 한다.'},\n",
    "{'create_dt':'2020-09-03', 'contents':'손흥민은 만두를 만드는것을 좋아한다.'},\n",
    "{'create_dt':'2020-09-04', 'contents':'TS샴푸! 손흥민 광고모델! 손흥!'}\n",
    "]\n",
    "\n",
    "\n",
    "columns = ['생성일', '본문']\n",
    "df = pd.DataFrame(columns=columns)\n",
    "\n",
    "# for i in range(1, 100):\n",
    "#     print(\"Get data\", str(i/500*100), \"% complete...\")\n",
    "for data0 in testData:\n",
    "    data_dt = data0['create_dt']\n",
    "    data_ct = data0['contents']\n",
    "    row = [data_dt, data_ct]\n",
    "    series = pd.Series(row, index=df.columns)\n",
    "    df = df.append(series, ignore_index=True)\n",
    "# print(\"Get data 100 % complete...\")"
   ]
  },
  {
   "cell_type": "code",
   "execution_count": 7,
   "metadata": {},
   "outputs": [],
   "source": [
    "# csv파일로 저장\n",
    "df.to_csv('tweet_temp.csv', index=False)"
   ]
  },
  {
   "source": [
    "## 2. 키워드 추출\n",
    "\n",
    "#### [2-1) 텍스트 데이터 전처리]"
   ],
   "cell_type": "markdown",
   "metadata": {}
  },
  {
   "cell_type": "code",
   "execution_count": 8,
   "metadata": {},
   "outputs": [
    {
     "output_type": "execute_result",
     "data": {
      "text/plain": "          생성일                           본문\n0  2020-09-18        손흥민 의조선수 국대 선수님들 파팅요!\n1  2020-09-01  손흥민 만두 먹고 왔다. test contents\n2  2020-09-02              손흥민은 만두를 싫어 한다.\n3  2020-09-03         손흥민은 만두를 만드는것을 좋아한다.\n4  2020-09-04          TS샴푸! 손흥민 광고모델! 손흥!",
      "text/html": "<div>\n<style scoped>\n    .dataframe tbody tr th:only-of-type {\n        vertical-align: middle;\n    }\n\n    .dataframe tbody tr th {\n        vertical-align: top;\n    }\n\n    .dataframe thead th {\n        text-align: right;\n    }\n</style>\n<table border=\"1\" class=\"dataframe\">\n  <thead>\n    <tr style=\"text-align: right;\">\n      <th></th>\n      <th>생성일</th>\n      <th>본문</th>\n    </tr>\n  </thead>\n  <tbody>\n    <tr>\n      <th>0</th>\n      <td>2020-09-18</td>\n      <td>손흥민 의조선수 국대 선수님들 파팅요!</td>\n    </tr>\n    <tr>\n      <th>1</th>\n      <td>2020-09-01</td>\n      <td>손흥민 만두 먹고 왔다. test contents</td>\n    </tr>\n    <tr>\n      <th>2</th>\n      <td>2020-09-02</td>\n      <td>손흥민은 만두를 싫어 한다.</td>\n    </tr>\n    <tr>\n      <th>3</th>\n      <td>2020-09-03</td>\n      <td>손흥민은 만두를 만드는것을 좋아한다.</td>\n    </tr>\n    <tr>\n      <th>4</th>\n      <td>2020-09-04</td>\n      <td>TS샴푸! 손흥민 광고모델! 손흥!</td>\n    </tr>\n  </tbody>\n</table>\n</div>"
     },
     "metadata": {},
     "execution_count": 8
    }
   ],
   "source": [
    "# csv파일 불러오기\n",
    "df = pd.read_csv('tweet_temp.csv')\n",
    "df.head()"
   ]
  },
  {
   "cell_type": "code",
   "execution_count": 9,
   "metadata": {},
   "outputs": [],
   "source": [
    "import re\n",
    "\n",
    "# 텍스트 정제 함수 : 할글 이외의 문자는 전부 제거\n",
    "def text_cleaning(text):\n",
    "    hangul = re.compile('[^ㄱ-ㅣ가-힣]+') #한글의 정규표현식을 나타냅니다.\n",
    "    result = hangul.sub('', text)\n",
    "    return result"
   ]
  },
  {
   "cell_type": "code",
   "execution_count": 10,
   "metadata": {},
   "outputs": [
    {
     "output_type": "execute_result",
     "data": {
      "text/plain": "          생성일                           본문           ko_text\n0  2020-09-18        손흥민 의조선수 국대 선수님들 파팅요!  손흥민의조선수국대선수님들파팅요\n1  2020-09-01  손흥민 만두 먹고 왔다. test contents         손흥민만두먹고왔다\n2  2020-09-02              손흥민은 만두를 싫어 한다.       손흥민은만두를싫어한다\n3  2020-09-03         손흥민은 만두를 만드는것을 좋아한다.  손흥민은만두를만드는것을좋아한다\n4  2020-09-04          TS샴푸! 손흥민 광고모델! 손흥!       샴푸손흥민광고모델손흥",
      "text/html": "<div>\n<style scoped>\n    .dataframe tbody tr th:only-of-type {\n        vertical-align: middle;\n    }\n\n    .dataframe tbody tr th {\n        vertical-align: top;\n    }\n\n    .dataframe thead th {\n        text-align: right;\n    }\n</style>\n<table border=\"1\" class=\"dataframe\">\n  <thead>\n    <tr style=\"text-align: right;\">\n      <th></th>\n      <th>생성일</th>\n      <th>본문</th>\n      <th>ko_text</th>\n    </tr>\n  </thead>\n  <tbody>\n    <tr>\n      <th>0</th>\n      <td>2020-09-18</td>\n      <td>손흥민 의조선수 국대 선수님들 파팅요!</td>\n      <td>손흥민의조선수국대선수님들파팅요</td>\n    </tr>\n    <tr>\n      <th>1</th>\n      <td>2020-09-01</td>\n      <td>손흥민 만두 먹고 왔다. test contents</td>\n      <td>손흥민만두먹고왔다</td>\n    </tr>\n    <tr>\n      <th>2</th>\n      <td>2020-09-02</td>\n      <td>손흥민은 만두를 싫어 한다.</td>\n      <td>손흥민은만두를싫어한다</td>\n    </tr>\n    <tr>\n      <th>3</th>\n      <td>2020-09-03</td>\n      <td>손흥민은 만두를 만드는것을 좋아한다.</td>\n      <td>손흥민은만두를만드는것을좋아한다</td>\n    </tr>\n    <tr>\n      <th>4</th>\n      <td>2020-09-04</td>\n      <td>TS샴푸! 손흥민 광고모델! 손흥!</td>\n      <td>샴푸손흥민광고모델손흥</td>\n    </tr>\n  </tbody>\n</table>\n</div>"
     },
     "metadata": {},
     "execution_count": 10
    }
   ],
   "source": [
    "# 'tweet_text' 피처에 이를 적용합니다.\n",
    "df['ko_text'] = df['본문'].apply(lambda x: text_cleaning(x))\n",
    "df.head()"
   ]
  },
  {
   "source": [
    "#### [2-2) KoNLPy를 이용한 키워드 추출 (형태소 분석기)]\n",
    "#### 한국어 약식 불용어 사전 사용 (http://ranks.nl/stopwords/korean)"
   ],
   "cell_type": "markdown",
   "metadata": {}
  },
  {
   "cell_type": "code",
   "execution_count": 11,
   "metadata": {
    "tags": []
   },
   "outputs": [],
   "source": [
    "\n",
    "from konlpy.tag import Okt\n",
    "from collections import Counter\n",
    "\n",
    "korean_stopwords_path = './korean_stopwords.txt'\n",
    "with open(korean_stopwords_path, encoding='utf8') as f:\n",
    "    stopwords = f.readlines()\n",
    "stopwords = [x.strip() for x in stopwords]\n",
    "\n",
    "def get_nouns(x):\n",
    "    nouns_tagger = Okt()\n",
    "    nouns = nouns_tagger.nouns(x)\n",
    "\n",
    "    #한글자 키워드를 제거합니다.\n",
    "    nouns = [noun for noun in nouns if len(noun) > 1]\n",
    "\n",
    "    #불용어를 제거합니다.\n",
    "    nouns = [noun for noun in nouns if noun not in stopwords]\n",
    "\n",
    "    return nouns\n"
   ]
  },
  {
   "cell_type": "code",
   "execution_count": 12,
   "metadata": {
    "tags": []
   },
   "outputs": [
    {
     "output_type": "stream",
     "name": "stdout",
     "text": "(5, 4)\n"
    },
    {
     "output_type": "execute_result",
     "data": {
      "text/plain": "          생성일                           본문           ko_text  \\\n0  2020-09-18        손흥민 의조선수 국대 선수님들 파팅요!  손흥민의조선수국대선수님들파팅요   \n1  2020-09-01  손흥민 만두 먹고 왔다. test contents         손흥민만두먹고왔다   \n2  2020-09-02              손흥민은 만두를 싫어 한다.       손흥민은만두를싫어한다   \n3  2020-09-03         손흥민은 만두를 만드는것을 좋아한다.  손흥민은만두를만드는것을좋아한다   \n4  2020-09-04          TS샴푸! 손흥민 광고모델! 손흥!       샴푸손흥민광고모델손흥   \n\n                   nouns  \n0  [손흥민, 조선, 수국, 선수, 파팅]  \n1                  [손흥민]  \n2              [손흥민, 만두]  \n3              [손흥민, 만두]  \n4  [샴푸, 손흥민, 광고, 모델, 손흥]  ",
      "text/html": "<div>\n<style scoped>\n    .dataframe tbody tr th:only-of-type {\n        vertical-align: middle;\n    }\n\n    .dataframe tbody tr th {\n        vertical-align: top;\n    }\n\n    .dataframe thead th {\n        text-align: right;\n    }\n</style>\n<table border=\"1\" class=\"dataframe\">\n  <thead>\n    <tr style=\"text-align: right;\">\n      <th></th>\n      <th>생성일</th>\n      <th>본문</th>\n      <th>ko_text</th>\n      <th>nouns</th>\n    </tr>\n  </thead>\n  <tbody>\n    <tr>\n      <th>0</th>\n      <td>2020-09-18</td>\n      <td>손흥민 의조선수 국대 선수님들 파팅요!</td>\n      <td>손흥민의조선수국대선수님들파팅요</td>\n      <td>[손흥민, 조선, 수국, 선수, 파팅]</td>\n    </tr>\n    <tr>\n      <th>1</th>\n      <td>2020-09-01</td>\n      <td>손흥민 만두 먹고 왔다. test contents</td>\n      <td>손흥민만두먹고왔다</td>\n      <td>[손흥민]</td>\n    </tr>\n    <tr>\n      <th>2</th>\n      <td>2020-09-02</td>\n      <td>손흥민은 만두를 싫어 한다.</td>\n      <td>손흥민은만두를싫어한다</td>\n      <td>[손흥민, 만두]</td>\n    </tr>\n    <tr>\n      <th>3</th>\n      <td>2020-09-03</td>\n      <td>손흥민은 만두를 만드는것을 좋아한다.</td>\n      <td>손흥민은만두를만드는것을좋아한다</td>\n      <td>[손흥민, 만두]</td>\n    </tr>\n    <tr>\n      <th>4</th>\n      <td>2020-09-04</td>\n      <td>TS샴푸! 손흥민 광고모델! 손흥!</td>\n      <td>샴푸손흥민광고모델손흥</td>\n      <td>[샴푸, 손흥민, 광고, 모델, 손흥]</td>\n    </tr>\n  </tbody>\n</table>\n</div>"
     },
     "metadata": {},
     "execution_count": 12
    }
   ],
   "source": [
    "df['nouns'] = df['ko_text'].apply(lambda x: get_nouns(x))\n",
    "print(df.shape)\n",
    "df.head()"
   ]
  },
  {
   "source": [
    "## 3. 연관 키워드 추출하기"
   ],
   "cell_type": "markdown",
   "metadata": {}
  },
  {
   "source": [
    "!pip install apriori apyori"
   ],
   "cell_type": "markdown",
   "metadata": {
    "tags": []
   }
  },
  {
   "source": [
    "### [연관 분석 연습]"
   ],
   "cell_type": "markdown",
   "metadata": {}
  },
  {
   "cell_type": "code",
   "execution_count": 13,
   "metadata": {
    "tags": []
   },
   "outputs": [
    {
     "output_type": "stream",
     "name": "stdout",
     "text": "RelationRecord(items=frozenset({'손흥민'}), support=1.0, ordered_statistics=[OrderedStatistic(items_base=frozenset(), items_add=frozenset({'손흥민'}), confidence=1.0, lift=1.0)])\nRelationRecord(items=frozenset({'시소코'}), support=0.3333333333333333, ordered_statistics=[OrderedStatistic(items_base=frozenset(), items_add=frozenset({'시소코'}), confidence=0.3333333333333333, lift=1.0)])\nRelationRecord(items=frozenset({'케인'}), support=0.6666666666666666, ordered_statistics=[OrderedStatistic(items_base=frozenset(), items_add=frozenset({'케인'}), confidence=0.6666666666666666, lift=1.0)])\nRelationRecord(items=frozenset({'포체티노'}), support=0.3333333333333333, ordered_statistics=[OrderedStatistic(items_base=frozenset(), items_add=frozenset({'포체티노'}), confidence=0.3333333333333333, lift=1.0)])\nRelationRecord(items=frozenset({'시소코', '손흥민'}), support=0.3333333333333333, ordered_statistics=[OrderedStatistic(items_base=frozenset(), items_add=frozenset({'시소코', '손흥민'}), confidence=0.3333333333333333, lift=1.0), OrderedStatistic(items_base=frozenset({'손흥민'}), items_add=frozenset({'시소코'}), confidence=0.3333333333333333, lift=1.0), OrderedStatistic(items_base=frozenset({'시소코'}), items_add=frozenset({'손흥민'}), confidence=1.0, lift=1.0)])\nRelationRecord(items=frozenset({'케인', '손흥민'}), support=0.6666666666666666, ordered_statistics=[OrderedStatistic(items_base=frozenset(), items_add=frozenset({'손흥민', '케인'}), confidence=0.6666666666666666, lift=1.0), OrderedStatistic(items_base=frozenset({'손흥민'}), items_add=frozenset({'케인'}), confidence=0.6666666666666666, lift=1.0), OrderedStatistic(items_base=frozenset({'케인'}), items_add=frozenset({'손흥민'}), confidence=1.0, lift=1.0)])\nRelationRecord(items=frozenset({'포체티노', '손흥민'}), support=0.3333333333333333, ordered_statistics=[OrderedStatistic(items_base=frozenset(), items_add=frozenset({'손흥민', '포체티노'}), confidence=0.3333333333333333, lift=1.0), OrderedStatistic(items_base=frozenset({'손흥민'}), items_add=frozenset({'포체티노'}), confidence=0.3333333333333333, lift=1.0), OrderedStatistic(items_base=frozenset({'포체티노'}), items_add=frozenset({'손흥민'}), confidence=1.0, lift=1.0)])\nRelationRecord(items=frozenset({'포체티노', '케인'}), support=0.3333333333333333, ordered_statistics=[OrderedStatistic(items_base=frozenset(), items_add=frozenset({'케인', '포체티노'}), confidence=0.3333333333333333, lift=1.0), OrderedStatistic(items_base=frozenset({'케인'}), items_add=frozenset({'포체티노'}), confidence=0.5, lift=1.5), OrderedStatistic(items_base=frozenset({'포체티노'}), items_add=frozenset({'케인'}), confidence=1.0, lift=1.5)])\nRelationRecord(items=frozenset({'케인', '포체티노', '손흥민'}), support=0.3333333333333333, ordered_statistics=[OrderedStatistic(items_base=frozenset(), items_add=frozenset({'손흥민', '포체티노', '케인'}), confidence=0.3333333333333333, lift=1.0), OrderedStatistic(items_base=frozenset({'손흥민'}), items_add=frozenset({'포체티노', '케인'}), confidence=0.3333333333333333, lift=1.0), OrderedStatistic(items_base=frozenset({'케인'}), items_add=frozenset({'손흥민', '포체티노'}), confidence=0.5, lift=1.5), OrderedStatistic(items_base=frozenset({'포체티노'}), items_add=frozenset({'손흥민', '케인'}), confidence=1.0, lift=1.5), OrderedStatistic(items_base=frozenset({'케인', '손흥민'}), items_add=frozenset({'포체티노'}), confidence=0.5, lift=1.5), OrderedStatistic(items_base=frozenset({'포체티노', '손흥민'}), items_add=frozenset({'케인'}), confidence=1.0, lift=1.5), OrderedStatistic(items_base=frozenset({'포체티노', '케인'}), items_add=frozenset({'손흥민'}), confidence=1.0, lift=1.0)])\n"
    }
   ],
   "source": [
    "from apyori import apriori\n",
    "\n",
    "# 1) 트랜잭션 데이터를 생성\n",
    "transactions = [\n",
    "    ['손흥민','시소코'],\n",
    "    ['손흥민','케인'],\n",
    "    ['손흥민','케인','포체티노']\n",
    "]\n",
    "\n",
    "# 2) 연관 분석을 수행합니다.\n",
    "results = list(apriori(transactions))\n",
    "for result in results:\n",
    "    print(result)"
   ]
  },
  {
   "cell_type": "code",
   "execution_count": 14,
   "metadata": {
    "tags": []
   },
   "outputs": [
    {
     "output_type": "stream",
     "name": "stdout",
     "text": "RelationRecord(items=frozenset({'손흥민'}), support=1.0, ordered_statistics=[OrderedStatistic(items_base=frozenset(), items_add=frozenset({'손흥민'}), confidence=1.0, lift=1.0)])\nRelationRecord(items=frozenset({'케인'}), support=0.6666666666666666, ordered_statistics=[OrderedStatistic(items_base=frozenset(), items_add=frozenset({'케인'}), confidence=0.6666666666666666, lift=1.0)])\nRelationRecord(items=frozenset({'케인', '손흥민'}), support=0.6666666666666666, ordered_statistics=[OrderedStatistic(items_base=frozenset(), items_add=frozenset({'손흥민', '케인'}), confidence=0.6666666666666666, lift=1.0), OrderedStatistic(items_base=frozenset({'손흥민'}), items_add=frozenset({'케인'}), confidence=0.6666666666666666, lift=1.0), OrderedStatistic(items_base=frozenset({'케인'}), items_add=frozenset({'손흥민'}), confidence=1.0, lift=1.0)])\n"
    }
   ],
   "source": [
    "# 3) 연관 분석 필터기능 사용해보기.\n",
    "# 지지도 0.5, 신뢰도 0.6, 향상도 1.0 이상이면서 (손흥민, 케인) 처헐 규칙의 크기가 2 이하의 규칙을 추출\n",
    "results = list(apriori(transactions,\n",
    "                        min_support=0.5,\n",
    "                        min_confidence=0.6,\n",
    "                        min_lift=1.0,\n",
    "                        max_length=2))\n",
    "\n",
    "for result in results:\n",
    "    print(result)"
   ]
  },
  {
   "source": [
    "### [트위터 연관 키워드 분석]"
   ],
   "cell_type": "markdown",
   "metadata": {}
  },
  {
   "cell_type": "code",
   "execution_count": 15,
   "metadata": {
    "tags": []
   },
   "outputs": [
    {
     "output_type": "stream",
     "name": "stdout",
     "text": "[['손흥민', '조선', '수국', '선수', '파팅'], ['손흥민'], ['손흥민', '만두'], ['손흥민', '만두'], ['샴푸', '손흥민', '광고', '모델', '손흥']]\n"
    }
   ],
   "source": [
    "transactions = df['nouns'].tolist()\n",
    "transactions = [transaction for transaction in transactions if transaction] # 공백 문자열을 방지합니다.and\n",
    "print(transactions)"
   ]
  },
  {
   "cell_type": "code",
   "execution_count": 53,
   "metadata": {
    "tags": []
   },
   "outputs": [
    {
     "output_type": "stream",
     "name": "stdout",
     "text": "[RelationRecord(items=frozenset({'광고'}), support=0.2, ordered_statistics=[OrderedStatistic(items_base=frozenset(), items_add=frozenset({'광고'}), confidence=0.2, lift=1.0)]), RelationRecord(items=frozenset({'만두'}), support=0.4, ordered_statistics=[OrderedStatistic(items_base=frozenset(), items_add=frozenset({'만두'}), confidence=0.4, lift=1.0)]), RelationRecord(items=frozenset({'모델'}), support=0.2, ordered_statistics=[OrderedStatistic(items_base=frozenset(), items_add=frozenset({'모델'}), confidence=0.2, lift=1.0)]), RelationRecord(items=frozenset({'샴푸'}), support=0.2, ordered_statistics=[OrderedStatistic(items_base=frozenset(), items_add=frozenset({'샴푸'}), confidence=0.2, lift=1.0)]), RelationRecord(items=frozenset({'선수'}), support=0.2, ordered_statistics=[OrderedStatistic(items_base=frozenset(), items_add=frozenset({'선수'}), confidence=0.2, lift=1.0)]), RelationRecord(items=frozenset({'손흥'}), support=0.2, ordered_statistics=[OrderedStatistic(items_base=frozenset(), items_add=frozenset({'손흥'}), confidence=0.2, lift=1.0)]), RelationRecord(items=frozenset({'손흥민'}), support=1.0, ordered_statistics=[OrderedStatistic(items_base=frozenset(), items_add=frozenset({'손흥민'}), confidence=1.0, lift=1.0)]), RelationRecord(items=frozenset({'수국'}), support=0.2, ordered_statistics=[OrderedStatistic(items_base=frozenset(), items_add=frozenset({'수국'}), confidence=0.2, lift=1.0)]), RelationRecord(items=frozenset({'조선'}), support=0.2, ordered_statistics=[OrderedStatistic(items_base=frozenset(), items_add=frozenset({'조선'}), confidence=0.2, lift=1.0)]), RelationRecord(items=frozenset({'파팅'}), support=0.2, ordered_statistics=[OrderedStatistic(items_base=frozenset(), items_add=frozenset({'파팅'}), confidence=0.2, lift=1.0)]), RelationRecord(items=frozenset({'광고', '모델'}), support=0.2, ordered_statistics=[OrderedStatistic(items_base=frozenset(), items_add=frozenset({'광고', '모델'}), confidence=0.2, lift=1.0), OrderedStatistic(items_base=frozenset({'광고'}), items_add=frozenset({'모델'}), confidence=1.0, lift=5.0), OrderedStatistic(items_base=frozenset({'모델'}), items_add=frozenset({'광고'}), confidence=1.0, lift=5.0)]), RelationRecord(items=frozenset({'광고', '샴푸'}), support=0.2, ordered_statistics=[OrderedStatistic(items_base=frozenset(), items_add=frozenset({'광고', '샴푸'}), confidence=0.2, lift=1.0), OrderedStatistic(items_base=frozenset({'광고'}), items_add=frozenset({'샴푸'}), confidence=1.0, lift=5.0), OrderedStatistic(items_base=frozenset({'샴푸'}), items_add=frozenset({'광고'}), confidence=1.0, lift=5.0)]), RelationRecord(items=frozenset({'광고', '손흥'}), support=0.2, ordered_statistics=[OrderedStatistic(items_base=frozenset(), items_add=frozenset({'광고', '손흥'}), confidence=0.2, lift=1.0), OrderedStatistic(items_base=frozenset({'광고'}), items_add=frozenset({'손흥'}), confidence=1.0, lift=5.0), OrderedStatistic(items_base=frozenset({'손흥'}), items_add=frozenset({'광고'}), confidence=1.0, lift=5.0)]), RelationRecord(items=frozenset({'광고', '손흥민'}), support=0.2, ordered_statistics=[OrderedStatistic(items_base=frozenset(), items_add=frozenset({'광고', '손흥민'}), confidence=0.2, lift=1.0), OrderedStatistic(items_base=frozenset({'광고'}), items_add=frozenset({'손흥민'}), confidence=1.0, lift=1.0), OrderedStatistic(items_base=frozenset({'손흥민'}), items_add=frozenset({'광고'}), confidence=0.2, lift=1.0)]), RelationRecord(items=frozenset({'만두', '손흥민'}), support=0.4, ordered_statistics=[OrderedStatistic(items_base=frozenset(), items_add=frozenset({'만두', '손흥민'}), confidence=0.4, lift=1.0), OrderedStatistic(items_base=frozenset({'만두'}), items_add=frozenset({'손흥민'}), confidence=1.0, lift=1.0), OrderedStatistic(items_base=frozenset({'손흥민'}), items_add=frozenset({'만두'}), confidence=0.4, lift=1.0)]), RelationRecord(items=frozenset({'샴푸', '모델'}), support=0.2, ordered_statistics=[OrderedStatistic(items_base=frozenset(), items_add=frozenset({'샴푸', '모델'}), confidence=0.2, lift=1.0), OrderedStatistic(items_base=frozenset({'모델'}), items_add=frozenset({'샴푸'}), confidence=1.0, lift=5.0), OrderedStatistic(items_base=frozenset({'샴푸'}), items_add=frozenset({'모델'}), confidence=1.0, lift=5.0)]), RelationRecord(items=frozenset({'모델', '손흥'}), support=0.2, ordered_statistics=[OrderedStatistic(items_base=frozenset(), items_add=frozenset({'모델', '손흥'}), confidence=0.2, lift=1.0), OrderedStatistic(items_base=frozenset({'모델'}), items_add=frozenset({'손흥'}), confidence=1.0, lift=5.0), OrderedStatistic(items_base=frozenset({'손흥'}), items_add=frozenset({'모델'}), confidence=1.0, lift=5.0)]), RelationRecord(items=frozenset({'모델', '손흥민'}), support=0.2, ordered_statistics=[OrderedStatistic(items_base=frozenset(), items_add=frozenset({'모델', '손흥민'}), confidence=0.2, lift=1.0), OrderedStatistic(items_base=frozenset({'모델'}), items_add=frozenset({'손흥민'}), confidence=1.0, lift=1.0), OrderedStatistic(items_base=frozenset({'손흥민'}), items_add=frozenset({'모델'}), confidence=0.2, lift=1.0)]), RelationRecord(items=frozenset({'샴푸', '손흥'}), support=0.2, ordered_statistics=[OrderedStatistic(items_base=frozenset(), items_add=frozenset({'샴푸', '손흥'}), confidence=0.2, lift=1.0), OrderedStatistic(items_base=frozenset({'샴푸'}), items_add=frozenset({'손흥'}), confidence=1.0, lift=5.0), OrderedStatistic(items_base=frozenset({'손흥'}), items_add=frozenset({'샴푸'}), confidence=1.0, lift=5.0)]), RelationRecord(items=frozenset({'샴푸', '손흥민'}), support=0.2, ordered_statistics=[OrderedStatistic(items_base=frozenset(), items_add=frozenset({'샴푸', '손흥민'}), confidence=0.2, lift=1.0), OrderedStatistic(items_base=frozenset({'샴푸'}), items_add=frozenset({'손흥민'}), confidence=1.0, lift=1.0), OrderedStatistic(items_base=frozenset({'손흥민'}), items_add=frozenset({'샴푸'}), confidence=0.2, lift=1.0)]), RelationRecord(items=frozenset({'선수', '손흥민'}), support=0.2, ordered_statistics=[OrderedStatistic(items_base=frozenset(), items_add=frozenset({'선수', '손흥민'}), confidence=0.2, lift=1.0), OrderedStatistic(items_base=frozenset({'선수'}), items_add=frozenset({'손흥민'}), confidence=1.0, lift=1.0), OrderedStatistic(items_base=frozenset({'손흥민'}), items_add=frozenset({'선수'}), confidence=0.2, lift=1.0)]), RelationRecord(items=frozenset({'선수', '수국'}), support=0.2, ordered_statistics=[OrderedStatistic(items_base=frozenset(), items_add=frozenset({'선수', '수국'}), confidence=0.2, lift=1.0), OrderedStatistic(items_base=frozenset({'선수'}), items_add=frozenset({'수국'}), confidence=1.0, lift=5.0), OrderedStatistic(items_base=frozenset({'수국'}), items_add=frozenset({'선수'}), confidence=1.0, lift=5.0)]), RelationRecord(items=frozenset({'조선', '선수'}), support=0.2, ordered_statistics=[OrderedStatistic(items_base=frozenset(), items_add=frozenset({'조선', '선수'}), confidence=0.2, lift=1.0), OrderedStatistic(items_base=frozenset({'선수'}), items_add=frozenset({'조선'}), confidence=1.0, lift=5.0), OrderedStatistic(items_base=frozenset({'조선'}), items_add=frozenset({'선수'}), confidence=1.0, lift=5.0)]), RelationRecord(items=frozenset({'파팅', '선수'}), support=0.2, ordered_statistics=[OrderedStatistic(items_base=frozenset(), items_add=frozenset({'파팅', '선수'}), confidence=0.2, lift=1.0), OrderedStatistic(items_base=frozenset({'선수'}), items_add=frozenset({'파팅'}), confidence=1.0, lift=5.0), OrderedStatistic(items_base=frozenset({'파팅'}), items_add=frozenset({'선수'}), confidence=1.0, lift=5.0)]), RelationRecord(items=frozenset({'손흥', '손흥민'}), support=0.2, ordered_statistics=[OrderedStatistic(items_base=frozenset(), items_add=frozenset({'손흥', '손흥민'}), confidence=0.2, lift=1.0), OrderedStatistic(items_base=frozenset({'손흥'}), items_add=frozenset({'손흥민'}), confidence=1.0, lift=1.0), OrderedStatistic(items_base=frozenset({'손흥민'}), items_add=frozenset({'손흥'}), confidence=0.2, lift=1.0)]), RelationRecord(items=frozenset({'수국', '손흥민'}), support=0.2, ordered_statistics=[OrderedStatistic(items_base=frozenset(), items_add=frozenset({'수국', '손흥민'}), confidence=0.2, lift=1.0), OrderedStatistic(items_base=frozenset({'손흥민'}), items_add=frozenset({'수국'}), confidence=0.2, lift=1.0), OrderedStatistic(items_base=frozenset({'수국'}), items_add=frozenset({'손흥민'}), confidence=1.0, lift=1.0)]), RelationRecord(items=frozenset({'조선', '손흥민'}), support=0.2, ordered_statistics=[OrderedStatistic(items_base=frozenset(), items_add=frozenset({'조선', '손흥민'}), confidence=0.2, lift=1.0), OrderedStatistic(items_base=frozenset({'손흥민'}), items_add=frozenset({'조선'}), confidence=0.2, lift=1.0), OrderedStatistic(items_base=frozenset({'조선'}), items_add=frozenset({'손흥민'}), confidence=1.0, lift=1.0)]), RelationRecord(items=frozenset({'파팅', '손흥민'}), support=0.2, ordered_statistics=[OrderedStatistic(items_base=frozenset(), items_add=frozenset({'파팅', '손흥민'}), confidence=0.2, lift=1.0), OrderedStatistic(items_base=frozenset({'손흥민'}), items_add=frozenset({'파팅'}), confidence=0.2, lift=1.0), OrderedStatistic(items_base=frozenset({'파팅'}), items_add=frozenset({'손흥민'}), confidence=1.0, lift=1.0)]), RelationRecord(items=frozenset({'조선', '수국'}), support=0.2, ordered_statistics=[OrderedStatistic(items_base=frozenset(), items_add=frozenset({'조선', '수국'}), confidence=0.2, lift=1.0), OrderedStatistic(items_base=frozenset({'수국'}), items_add=frozenset({'조선'}), confidence=1.0, lift=5.0), OrderedStatistic(items_base=frozenset({'조선'}), items_add=frozenset({'수국'}), confidence=1.0, lift=5.0)]), RelationRecord(items=frozenset({'파팅', '수국'}), support=0.2, ordered_statistics=[OrderedStatistic(items_base=frozenset(), items_add=frozenset({'파팅', '수국'}), confidence=0.2, lift=1.0), OrderedStatistic(items_base=frozenset({'수국'}), items_add=frozenset({'파팅'}), confidence=1.0, lift=5.0), OrderedStatistic(items_base=frozenset({'파팅'}), items_add=frozenset({'수국'}), confidence=1.0, lift=5.0)]), RelationRecord(items=frozenset({'조선', '파팅'}), support=0.2, ordered_statistics=[OrderedStatistic(items_base=frozenset(), items_add=frozenset({'조선', '파팅'}), confidence=0.2, lift=1.0), OrderedStatistic(items_base=frozenset({'조선'}), items_add=frozenset({'파팅'}), confidence=1.0, lift=5.0), OrderedStatistic(items_base=frozenset({'파팅'}), items_add=frozenset({'조선'}), confidence=1.0, lift=5.0)]), RelationRecord(items=frozenset({'광고', '샴푸', '모델'}), support=0.2, ordered_statistics=[OrderedStatistic(items_base=frozenset(), items_add=frozenset({'광고', '샴푸', '모델'}), confidence=0.2, lift=1.0), OrderedStatistic(items_base=frozenset({'광고'}), items_add=frozenset({'샴푸', '모델'}), confidence=1.0, lift=5.0), OrderedStatistic(items_base=frozenset({'모델'}), items_add=frozenset({'광고', '샴푸'}), confidence=1.0, lift=5.0), OrderedStatistic(items_base=frozenset({'샴푸'}), items_add=frozenset({'광고', '모델'}), confidence=1.0, lift=5.0), OrderedStatistic(items_base=frozenset({'광고', '모델'}), items_add=frozenset({'샴푸'}), confidence=1.0, lift=5.0), OrderedStatistic(items_base=frozenset({'광고', '샴푸'}), items_add=frozenset({'모델'}), confidence=1.0, lift=5.0), OrderedStatistic(items_base=frozenset({'샴푸', '모델'}), items_add=frozenset({'광고'}), confidence=1.0, lift=5.0)]), RelationRecord(items=frozenset({'광고', '모델', '손흥'}), support=0.2, ordered_statistics=[OrderedStatistic(items_base=frozenset(), items_add=frozenset({'광고', '모델', '손흥'}), confidence=0.2, lift=1.0), OrderedStatistic(items_base=frozenset({'광고'}), items_add=frozenset({'모델', '손흥'}), confidence=1.0, lift=5.0), OrderedStatistic(items_base=frozenset({'모델'}), items_add=frozenset({'광고', '손흥'}), confidence=1.0, lift=5.0), OrderedStatistic(items_base=frozenset({'손흥'}), items_add=frozenset({'광고', '모델'}), confidence=1.0, lift=5.0), OrderedStatistic(items_base=frozenset({'광고', '모델'}), items_add=frozenset({'손흥'}), confidence=1.0, lift=5.0), OrderedStatistic(items_base=frozenset({'광고', '손흥'}), items_add=frozenset({'모델'}), confidence=1.0, lift=5.0), OrderedStatistic(items_base=frozenset({'모델', '손흥'}), items_add=frozenset({'광고'}), confidence=1.0, lift=5.0)]), RelationRecord(items=frozenset({'광고', '모델', '손흥민'}), support=0.2, ordered_statistics=[OrderedStatistic(items_base=frozenset(), items_add=frozenset({'광고', '모델', '손흥민'}), confidence=0.2, lift=1.0), OrderedStatistic(items_base=frozenset({'광고'}), items_add=frozenset({'모델', '손흥민'}), confidence=1.0, lift=5.0), OrderedStatistic(items_base=frozenset({'모델'}), items_add=frozenset({'광고', '손흥민'}), confidence=1.0, lift=5.0), OrderedStatistic(items_base=frozenset({'손흥민'}), items_add=frozenset({'광고', '모델'}), confidence=0.2, lift=1.0), OrderedStatistic(items_base=frozenset({'광고', '모델'}), items_add=frozenset({'손흥민'}), confidence=1.0, lift=1.0), OrderedStatistic(items_base=frozenset({'광고', '손흥민'}), items_add=frozenset({'모델'}), confidence=1.0, lift=5.0), OrderedStatistic(items_base=frozenset({'모델', '손흥민'}), items_add=frozenset({'광고'}), confidence=1.0, lift=5.0)]), RelationRecord(items=frozenset({'광고', '샴푸', '손흥'}), support=0.2, ordered_statistics=[OrderedStatistic(items_base=frozenset(), items_add=frozenset({'광고', '샴푸', '손흥'}), confidence=0.2, lift=1.0), OrderedStatistic(items_base=frozenset({'광고'}), items_add=frozenset({'샴푸', '손흥'}), confidence=1.0, lift=5.0), OrderedStatistic(items_base=frozenset({'샴푸'}), items_add=frozenset({'광고', '손흥'}), confidence=1.0, lift=5.0), OrderedStatistic(items_base=frozenset({'손흥'}), items_add=frozenset({'광고', '샴푸'}), confidence=1.0, lift=5.0), OrderedStatistic(items_base=frozenset({'광고', '샴푸'}), items_add=frozenset({'손흥'}), confidence=1.0, lift=5.0), OrderedStatistic(items_base=frozenset({'광고', '손흥'}), items_add=frozenset({'샴푸'}), confidence=1.0, lift=5.0), OrderedStatistic(items_base=frozenset({'샴푸', '손흥'}), items_add=frozenset({'광고'}), confidence=1.0, lift=5.0)]), RelationRecord(items=frozenset({'광고', '샴푸', '손흥민'}), support=0.2, ordered_statistics=[OrderedStatistic(items_base=frozenset(), items_add=frozenset({'광고', '샴푸', '손흥민'}), confidence=0.2, lift=1.0), OrderedStatistic(items_base=frozenset({'광고'}), items_add=frozenset({'샴푸', '손흥민'}), confidence=1.0, lift=5.0), OrderedStatistic(items_base=frozenset({'샴푸'}), items_add=frozenset({'광고', '손흥민'}), confidence=1.0, lift=5.0), OrderedStatistic(items_base=frozenset({'손흥민'}), items_add=frozenset({'광고', '샴푸'}), confidence=0.2, lift=1.0), OrderedStatistic(items_base=frozenset({'광고', '샴푸'}), items_add=frozenset({'손흥민'}), confidence=1.0, lift=1.0), OrderedStatistic(items_base=frozenset({'광고', '손흥민'}), items_add=frozenset({'샴푸'}), confidence=1.0, lift=5.0), OrderedStatistic(items_base=frozenset({'샴푸', '손흥민'}), items_add=frozenset({'광고'}), confidence=1.0, lift=5.0)]), RelationRecord(items=frozenset({'광고', '손흥', '손흥민'}), support=0.2, ordered_statistics=[OrderedStatistic(items_base=frozenset(), items_add=frozenset({'광고', '손흥', '손흥민'}), confidence=0.2, lift=1.0), OrderedStatistic(items_base=frozenset({'광고'}), items_add=frozenset({'손흥', '손흥민'}), confidence=1.0, lift=5.0), OrderedStatistic(items_base=frozenset({'손흥'}), items_add=frozenset({'광고', '손흥민'}), confidence=1.0, lift=5.0), OrderedStatistic(items_base=frozenset({'손흥민'}), items_add=frozenset({'광고', '손흥'}), confidence=0.2, lift=1.0), OrderedStatistic(items_base=frozenset({'광고', '손흥'}), items_add=frozenset({'손흥민'}), confidence=1.0, lift=1.0), OrderedStatistic(items_base=frozenset({'광고', '손흥민'}), items_add=frozenset({'손흥'}), confidence=1.0, lift=5.0), OrderedStatistic(items_base=frozenset({'손흥', '손흥민'}), items_add=frozenset({'광고'}), confidence=1.0, lift=5.0)]), RelationRecord(items=frozenset({'샴푸', '모델', '손흥'}), support=0.2, ordered_statistics=[OrderedStatistic(items_base=frozenset(), items_add=frozenset({'샴푸', '모델', '손흥'}), confidence=0.2, lift=1.0), OrderedStatistic(items_base=frozenset({'모델'}), items_add=frozenset({'샴푸', '손흥'}), confidence=1.0, lift=5.0), OrderedStatistic(items_base=frozenset({'샴푸'}), items_add=frozenset({'모델', '손흥'}), confidence=1.0, lift=5.0), OrderedStatistic(items_base=frozenset({'손흥'}), items_add=frozenset({'샴푸', '모델'}), confidence=1.0, lift=5.0), OrderedStatistic(items_base=frozenset({'샴푸', '모델'}), items_add=frozenset({'손흥'}), confidence=1.0, lift=5.0), OrderedStatistic(items_base=frozenset({'모델', '손흥'}), items_add=frozenset({'샴푸'}), confidence=1.0, lift=5.0), OrderedStatistic(items_base=frozenset({'샴푸', '손흥'}), items_add=frozenset({'모델'}), confidence=1.0, lift=5.0)]), RelationRecord(items=frozenset({'샴푸', '모델', '손흥민'}), support=0.2, ordered_statistics=[OrderedStatistic(items_base=frozenset(), items_add=frozenset({'샴푸', '모델', '손흥민'}), confidence=0.2, lift=1.0), OrderedStatistic(items_base=frozenset({'모델'}), items_add=frozenset({'샴푸', '손흥민'}), confidence=1.0, lift=5.0), OrderedStatistic(items_base=frozenset({'샴푸'}), items_add=frozenset({'모델', '손흥민'}), confidence=1.0, lift=5.0), OrderedStatistic(items_base=frozenset({'손흥민'}), items_add=frozenset({'샴푸', '모델'}), confidence=0.2, lift=1.0), OrderedStatistic(items_base=frozenset({'샴푸', '모델'}), items_add=frozenset({'손흥민'}), confidence=1.0, lift=1.0), OrderedStatistic(items_base=frozenset({'모델', '손흥민'}), items_add=frozenset({'샴푸'}), confidence=1.0, lift=5.0), OrderedStatistic(items_base=frozenset({'샴푸', '손흥민'}), items_add=frozenset({'모델'}), confidence=1.0, lift=5.0)]), RelationRecord(items=frozenset({'모델', '손흥', '손흥민'}), support=0.2, ordered_statistics=[OrderedStatistic(items_base=frozenset(), items_add=frozenset({'모델', '손흥', '손흥민'}), confidence=0.2, lift=1.0), OrderedStatistic(items_base=frozenset({'모델'}), items_add=frozenset({'손흥', '손흥민'}), confidence=1.0, lift=5.0), OrderedStatistic(items_base=frozenset({'손흥'}), items_add=frozenset({'모델', '손흥민'}), confidence=1.0, lift=5.0), OrderedStatistic(items_base=frozenset({'손흥민'}), items_add=frozenset({'모델', '손흥'}), confidence=0.2, lift=1.0), OrderedStatistic(items_base=frozenset({'모델', '손흥'}), items_add=frozenset({'손흥민'}), confidence=1.0, lift=1.0), OrderedStatistic(items_base=frozenset({'모델', '손흥민'}), items_add=frozenset({'손흥'}), confidence=1.0, lift=5.0), OrderedStatistic(items_base=frozenset({'손흥', '손흥민'}), items_add=frozenset({'모델'}), confidence=1.0, lift=5.0)]), RelationRecord(items=frozenset({'샴푸', '손흥', '손흥민'}), support=0.2, ordered_statistics=[OrderedStatistic(items_base=frozenset(), items_add=frozenset({'샴푸', '손흥', '손흥민'}), confidence=0.2, lift=1.0), OrderedStatistic(items_base=frozenset({'샴푸'}), items_add=frozenset({'손흥', '손흥민'}), confidence=1.0, lift=5.0), OrderedStatistic(items_base=frozenset({'손흥'}), items_add=frozenset({'샴푸', '손흥민'}), confidence=1.0, lift=5.0), OrderedStatistic(items_base=frozenset({'손흥민'}), items_add=frozenset({'샴푸', '손흥'}), confidence=0.2, lift=1.0), OrderedStatistic(items_base=frozenset({'샴푸', '손흥'}), items_add=frozenset({'손흥민'}), confidence=1.0, lift=1.0), OrderedStatistic(items_base=frozenset({'샴푸', '손흥민'}), items_add=frozenset({'손흥'}), confidence=1.0, lift=5.0), OrderedStatistic(items_base=frozenset({'손흥', '손흥민'}), items_add=frozenset({'샴푸'}), confidence=1.0, lift=5.0)]), RelationRecord(items=frozenset({'수국', '선수', '손흥민'}), support=0.2, ordered_statistics=[OrderedStatistic(items_base=frozenset(), items_add=frozenset({'선수', '수국', '손흥민'}), confidence=0.2, lift=1.0), OrderedStatistic(items_base=frozenset({'선수'}), items_add=frozenset({'수국', '손흥민'}), confidence=1.0, lift=5.0), OrderedStatistic(items_base=frozenset({'손흥민'}), items_add=frozenset({'선수', '수국'}), confidence=0.2, lift=1.0), OrderedStatistic(items_base=frozenset({'수국'}), items_add=frozenset({'선수', '손흥민'}), confidence=1.0, lift=5.0), OrderedStatistic(items_base=frozenset({'선수', '손흥민'}), items_add=frozenset({'수국'}), confidence=1.0, lift=5.0), OrderedStatistic(items_base=frozenset({'선수', '수국'}), items_add=frozenset({'손흥민'}), confidence=1.0, lift=1.0), OrderedStatistic(items_base=frozenset({'수국', '손흥민'}), items_add=frozenset({'선수'}), confidence=1.0, lift=5.0)]), RelationRecord(items=frozenset({'조선', '선수', '손흥민'}), support=0.2, ordered_statistics=[OrderedStatistic(items_base=frozenset(), items_add=frozenset({'조선', '선수', '손흥민'}), confidence=0.2, lift=1.0), OrderedStatistic(items_base=frozenset({'선수'}), items_add=frozenset({'조선', '손흥민'}), confidence=1.0, lift=5.0), OrderedStatistic(items_base=frozenset({'손흥민'}), items_add=frozenset({'조선', '선수'}), confidence=0.2, lift=1.0), OrderedStatistic(items_base=frozenset({'조선'}), items_add=frozenset({'선수', '손흥민'}), confidence=1.0, lift=5.0), OrderedStatistic(items_base=frozenset({'선수', '손흥민'}), items_add=frozenset({'조선'}), confidence=1.0, lift=5.0), OrderedStatistic(items_base=frozenset({'조선', '선수'}), items_add=frozenset({'손흥민'}), confidence=1.0, lift=1.0), OrderedStatistic(items_base=frozenset({'조선', '손흥민'}), items_add=frozenset({'선수'}), confidence=1.0, lift=5.0)]), RelationRecord(items=frozenset({'파팅', '선수', '손흥민'}), support=0.2, ordered_statistics=[OrderedStatistic(items_base=frozenset(), items_add=frozenset({'파팅', '선수', '손흥민'}), confidence=0.2, lift=1.0), OrderedStatistic(items_base=frozenset({'선수'}), items_add=frozenset({'파팅', '손흥민'}), confidence=1.0, lift=5.0), OrderedStatistic(items_base=frozenset({'손흥민'}), items_add=frozenset({'파팅', '선수'}), confidence=0.2, lift=1.0), OrderedStatistic(items_base=frozenset({'파팅'}), items_add=frozenset({'선수', '손흥민'}), confidence=1.0, lift=5.0), OrderedStatistic(items_base=frozenset({'선수', '손흥민'}), items_add=frozenset({'파팅'}), confidence=1.0, lift=5.0), OrderedStatistic(items_base=frozenset({'파팅', '선수'}), items_add=frozenset({'손흥민'}), confidence=1.0, lift=1.0), OrderedStatistic(items_base=frozenset({'파팅', '손흥민'}), items_add=frozenset({'선수'}), confidence=1.0, lift=5.0)]), RelationRecord(items=frozenset({'조선', '선수', '수국'}), support=0.2, ordered_statistics=[OrderedStatistic(items_base=frozenset(), items_add=frozenset({'조선', '선수', '수국'}), confidence=0.2, lift=1.0), OrderedStatistic(items_base=frozenset({'선수'}), items_add=frozenset({'조선', '수국'}), confidence=1.0, lift=5.0), OrderedStatistic(items_base=frozenset({'수국'}), items_add=frozenset({'조선', '선수'}), confidence=1.0, lift=5.0), OrderedStatistic(items_base=frozenset({'조선'}), items_add=frozenset({'선수', '수국'}), confidence=1.0, lift=5.0), OrderedStatistic(items_base=frozenset({'선수', '수국'}), items_add=frozenset({'조선'}), confidence=1.0, lift=5.0), OrderedStatistic(items_base=frozenset({'조선', '선수'}), items_add=frozenset({'수국'}), confidence=1.0, lift=5.0), OrderedStatistic(items_base=frozenset({'조선', '수국'}), items_add=frozenset({'선수'}), confidence=1.0, lift=5.0)]), RelationRecord(items=frozenset({'파팅', '선수', '수국'}), support=0.2, ordered_statistics=[OrderedStatistic(items_base=frozenset(), items_add=frozenset({'파팅', '선수', '수국'}), confidence=0.2, lift=1.0), OrderedStatistic(items_base=frozenset({'선수'}), items_add=frozenset({'파팅', '수국'}), confidence=1.0, lift=5.0), OrderedStatistic(items_base=frozenset({'수국'}), items_add=frozenset({'파팅', '선수'}), confidence=1.0, lift=5.0), OrderedStatistic(items_base=frozenset({'파팅'}), items_add=frozenset({'선수', '수국'}), confidence=1.0, lift=5.0), OrderedStatistic(items_base=frozenset({'선수', '수국'}), items_add=frozenset({'파팅'}), confidence=1.0, lift=5.0), OrderedStatistic(items_base=frozenset({'파팅', '선수'}), items_add=frozenset({'수국'}), confidence=1.0, lift=5.0), OrderedStatistic(items_base=frozenset({'파팅', '수국'}), items_add=frozenset({'선수'}), confidence=1.0, lift=5.0)]), RelationRecord(items=frozenset({'조선', '파팅', '선수'}), support=0.2, ordered_statistics=[OrderedStatistic(items_base=frozenset(), items_add=frozenset({'조선', '파팅', '선수'}), confidence=0.2, lift=1.0), OrderedStatistic(items_base=frozenset({'선수'}), items_add=frozenset({'조선', '파팅'}), confidence=1.0, lift=5.0), OrderedStatistic(items_base=frozenset({'조선'}), items_add=frozenset({'파팅', '선수'}), confidence=1.0, lift=5.0), OrderedStatistic(items_base=frozenset({'파팅'}), items_add=frozenset({'조선', '선수'}), confidence=1.0, lift=5.0), OrderedStatistic(items_base=frozenset({'조선', '선수'}), items_add=frozenset({'파팅'}), confidence=1.0, lift=5.0), OrderedStatistic(items_base=frozenset({'파팅', '선수'}), items_add=frozenset({'조선'}), confidence=1.0, lift=5.0), OrderedStatistic(items_base=frozenset({'조선', '파팅'}), items_add=frozenset({'선수'}), confidence=1.0, lift=5.0)]), RelationRecord(items=frozenset({'조선', '수국', '손흥민'}), support=0.2, ordered_statistics=[OrderedStatistic(items_base=frozenset(), items_add=frozenset({'조선', '수국', '손흥민'}), confidence=0.2, lift=1.0), OrderedStatistic(items_base=frozenset({'손흥민'}), items_add=frozenset({'조선', '수국'}), confidence=0.2, lift=1.0), OrderedStatistic(items_base=frozenset({'수국'}), items_add=frozenset({'조선', '손흥민'}), confidence=1.0, lift=5.0), OrderedStatistic(items_base=frozenset({'조선'}), items_add=frozenset({'수국', '손흥민'}), confidence=1.0, lift=5.0), OrderedStatistic(items_base=frozenset({'수국', '손흥민'}), items_add=frozenset({'조선'}), confidence=1.0, lift=5.0), OrderedStatistic(items_base=frozenset({'조선', '손흥민'}), items_add=frozenset({'수국'}), confidence=1.0, lift=5.0), OrderedStatistic(items_base=frozenset({'조선', '수국'}), items_add=frozenset({'손흥민'}), confidence=1.0, lift=1.0)]), RelationRecord(items=frozenset({'파팅', '수국', '손흥민'}), support=0.2, ordered_statistics=[OrderedStatistic(items_base=frozenset(), items_add=frozenset({'파팅', '수국', '손흥민'}), confidence=0.2, lift=1.0), OrderedStatistic(items_base=frozenset({'손흥민'}), items_add=frozenset({'파팅', '수국'}), confidence=0.2, lift=1.0), OrderedStatistic(items_base=frozenset({'수국'}), items_add=frozenset({'파팅', '손흥민'}), confidence=1.0, lift=5.0), OrderedStatistic(items_base=frozenset({'파팅'}), items_add=frozenset({'수국', '손흥민'}), confidence=1.0, lift=5.0), OrderedStatistic(items_base=frozenset({'수국', '손흥민'}), items_add=frozenset({'파팅'}), confidence=1.0, lift=5.0), OrderedStatistic(items_base=frozenset({'파팅', '손흥민'}), items_add=frozenset({'수국'}), confidence=1.0, lift=5.0), OrderedStatistic(items_base=frozenset({'파팅', '수국'}), items_add=frozenset({'손흥민'}), confidence=1.0, lift=1.0)]), RelationRecord(items=frozenset({'조선', '파팅', '손흥민'}), support=0.2, ordered_statistics=[OrderedStatistic(items_base=frozenset(), items_add=frozenset({'조선', '파팅', '손흥민'}), confidence=0.2, lift=1.0), OrderedStatistic(items_base=frozenset({'손흥민'}), items_add=frozenset({'조선', '파팅'}), confidence=0.2, lift=1.0), OrderedStatistic(items_base=frozenset({'조선'}), items_add=frozenset({'파팅', '손흥민'}), confidence=1.0, lift=5.0), OrderedStatistic(items_base=frozenset({'파팅'}), items_add=frozenset({'조선', '손흥민'}), confidence=1.0, lift=5.0), OrderedStatistic(items_base=frozenset({'조선', '손흥민'}), items_add=frozenset({'파팅'}), confidence=1.0, lift=5.0), OrderedStatistic(items_base=frozenset({'파팅', '손흥민'}), items_add=frozenset({'조선'}), confidence=1.0, lift=5.0), OrderedStatistic(items_base=frozenset({'조선', '파팅'}), items_add=frozenset({'손흥민'}), confidence=1.0, lift=1.0)]), RelationRecord(items=frozenset({'조선', '파팅', '수국'}), support=0.2, ordered_statistics=[OrderedStatistic(items_base=frozenset(), items_add=frozenset({'조선', '파팅', '수국'}), confidence=0.2, lift=1.0), OrderedStatistic(items_base=frozenset({'수국'}), items_add=frozenset({'조선', '파팅'}), confidence=1.0, lift=5.0), OrderedStatistic(items_base=frozenset({'조선'}), items_add=frozenset({'파팅', '수국'}), confidence=1.0, lift=5.0), OrderedStatistic(items_base=frozenset({'파팅'}), items_add=frozenset({'조선', '수국'}), confidence=1.0, lift=5.0), OrderedStatistic(items_base=frozenset({'조선', '수국'}), items_add=frozenset({'파팅'}), confidence=1.0, lift=5.0), OrderedStatistic(items_base=frozenset({'파팅', '수국'}), items_add=frozenset({'조선'}), confidence=1.0, lift=5.0), OrderedStatistic(items_base=frozenset({'조선', '파팅'}), items_add=frozenset({'수국'}), confidence=1.0, lift=5.0)]), RelationRecord(items=frozenset({'광고', '샴푸', '모델', '손흥'}), support=0.2, ordered_statistics=[OrderedStatistic(items_base=frozenset(), items_add=frozenset({'광고', '샴푸', '모델', '손흥'}), confidence=0.2, lift=1.0), OrderedStatistic(items_base=frozenset({'광고'}), items_add=frozenset({'샴푸', '모델', '손흥'}), confidence=1.0, lift=5.0), OrderedStatistic(items_base=frozenset({'모델'}), items_add=frozenset({'광고', '샴푸', '손흥'}), confidence=1.0, lift=5.0), OrderedStatistic(items_base=frozenset({'샴푸'}), items_add=frozenset({'광고', '모델', '손흥'}), confidence=1.0, lift=5.0), OrderedStatistic(items_base=frozenset({'손흥'}), items_add=frozenset({'광고', '샴푸', '모델'}), confidence=1.0, lift=5.0), OrderedStatistic(items_base=frozenset({'광고', '모델'}), items_add=frozenset({'샴푸', '손흥'}), confidence=1.0, lift=5.0), OrderedStatistic(items_base=frozenset({'광고', '샴푸'}), items_add=frozenset({'모델', '손흥'}), confidence=1.0, lift=5.0), OrderedStatistic(items_base=frozenset({'광고', '손흥'}), items_add=frozenset({'샴푸', '모델'}), confidence=1.0, lift=5.0), OrderedStatistic(items_base=frozenset({'샴푸', '모델'}), items_add=frozenset({'광고', '손흥'}), confidence=1.0, lift=5.0), OrderedStatistic(items_base=frozenset({'모델', '손흥'}), items_add=frozenset({'광고', '샴푸'}), confidence=1.0, lift=5.0), OrderedStatistic(items_base=frozenset({'샴푸', '손흥'}), items_add=frozenset({'광고', '모델'}), confidence=1.0, lift=5.0), OrderedStatistic(items_base=frozenset({'광고', '샴푸', '모델'}), items_add=frozenset({'손흥'}), confidence=1.0, lift=5.0), OrderedStatistic(items_base=frozenset({'광고', '모델', '손흥'}), items_add=frozenset({'샴푸'}), confidence=1.0, lift=5.0), OrderedStatistic(items_base=frozenset({'광고', '샴푸', '손흥'}), items_add=frozenset({'모델'}), confidence=1.0, lift=5.0), OrderedStatistic(items_base=frozenset({'샴푸', '모델', '손흥'}), items_add=frozenset({'광고'}), confidence=1.0, lift=5.0)]), RelationRecord(items=frozenset({'광고', '샴푸', '모델', '손흥민'}), support=0.2, ordered_statistics=[OrderedStatistic(items_base=frozenset(), items_add=frozenset({'광고', '샴푸', '모델', '손흥민'}), confidence=0.2, lift=1.0), OrderedStatistic(items_base=frozenset({'광고'}), items_add=frozenset({'샴푸', '모델', '손흥민'}), confidence=1.0, lift=5.0), OrderedStatistic(items_base=frozenset({'모델'}), items_add=frozenset({'광고', '샴푸', '손흥민'}), confidence=1.0, lift=5.0), OrderedStatistic(items_base=frozenset({'샴푸'}), items_add=frozenset({'광고', '모델', '손흥민'}), confidence=1.0, lift=5.0), OrderedStatistic(items_base=frozenset({'손흥민'}), items_add=frozenset({'광고', '샴푸', '모델'}), confidence=0.2, lift=1.0), OrderedStatistic(items_base=frozenset({'광고', '모델'}), items_add=frozenset({'샴푸', '손흥민'}), confidence=1.0, lift=5.0), OrderedStatistic(items_base=frozenset({'광고', '샴푸'}), items_add=frozenset({'모델', '손흥민'}), confidence=1.0, lift=5.0), OrderedStatistic(items_base=frozenset({'광고', '손흥민'}), items_add=frozenset({'샴푸', '모델'}), confidence=1.0, lift=5.0), OrderedStatistic(items_base=frozenset({'샴푸', '모델'}), items_add=frozenset({'광고', '손흥민'}), confidence=1.0, lift=5.0), OrderedStatistic(items_base=frozenset({'모델', '손흥민'}), items_add=frozenset({'광고', '샴푸'}), confidence=1.0, lift=5.0), OrderedStatistic(items_base=frozenset({'샴푸', '손흥민'}), items_add=frozenset({'광고', '모델'}), confidence=1.0, lift=5.0), OrderedStatistic(items_base=frozenset({'광고', '샴푸', '모델'}), items_add=frozenset({'손흥민'}), confidence=1.0, lift=1.0), OrderedStatistic(items_base=frozenset({'광고', '모델', '손흥민'}), items_add=frozenset({'샴푸'}), confidence=1.0, lift=5.0), OrderedStatistic(items_base=frozenset({'광고', '샴푸', '손흥민'}), items_add=frozenset({'모델'}), confidence=1.0, lift=5.0), OrderedStatistic(items_base=frozenset({'샴푸', '모델', '손흥민'}), items_add=frozenset({'광고'}), confidence=1.0, lift=5.0)]), RelationRecord(items=frozenset({'광고', '모델', '손흥', '손흥민'}), support=0.2, ordered_statistics=[OrderedStatistic(items_base=frozenset(), items_add=frozenset({'광고', '모델', '손흥', '손흥민'}), confidence=0.2, lift=1.0), OrderedStatistic(items_base=frozenset({'광고'}), items_add=frozenset({'모델', '손흥', '손흥민'}), confidence=1.0, lift=5.0), OrderedStatistic(items_base=frozenset({'모델'}), items_add=frozenset({'광고', '손흥', '손흥민'}), confidence=1.0, lift=5.0), OrderedStatistic(items_base=frozenset({'손흥'}), items_add=frozenset({'광고', '모델', '손흥민'}), confidence=1.0, lift=5.0), OrderedStatistic(items_base=frozenset({'손흥민'}), items_add=frozenset({'광고', '모델', '손흥'}), confidence=0.2, lift=1.0), OrderedStatistic(items_base=frozenset({'광고', '모델'}), items_add=frozenset({'손흥', '손흥민'}), confidence=1.0, lift=5.0), OrderedStatistic(items_base=frozenset({'광고', '손흥'}), items_add=frozenset({'모델', '손흥민'}), confidence=1.0, lift=5.0), OrderedStatistic(items_base=frozenset({'광고', '손흥민'}), items_add=frozenset({'모델', '손흥'}), confidence=1.0, lift=5.0), OrderedStatistic(items_base=frozenset({'모델', '손흥'}), items_add=frozenset({'광고', '손흥민'}), confidence=1.0, lift=5.0), OrderedStatistic(items_base=frozenset({'모델', '손흥민'}), items_add=frozenset({'광고', '손흥'}), confidence=1.0, lift=5.0), OrderedStatistic(items_base=frozenset({'손흥', '손흥민'}), items_add=frozenset({'광고', '모델'}), confidence=1.0, lift=5.0), OrderedStatistic(items_base=frozenset({'광고', '모델', '손흥'}), items_add=frozenset({'손흥민'}), confidence=1.0, lift=1.0), OrderedStatistic(items_base=frozenset({'광고', '모델', '손흥민'}), items_add=frozenset({'손흥'}), confidence=1.0, lift=5.0), OrderedStatistic(items_base=frozenset({'광고', '손흥', '손흥민'}), items_add=frozenset({'모델'}), confidence=1.0, lift=5.0), OrderedStatistic(items_base=frozenset({'모델', '손흥', '손흥민'}), items_add=frozenset({'광고'}), confidence=1.0, lift=5.0)]), RelationRecord(items=frozenset({'광고', '샴푸', '손흥', '손흥민'}), support=0.2, ordered_statistics=[OrderedStatistic(items_base=frozenset(), items_add=frozenset({'광고', '샴푸', '손흥', '손흥민'}), confidence=0.2, lift=1.0), OrderedStatistic(items_base=frozenset({'광고'}), items_add=frozenset({'샴푸', '손흥', '손흥민'}), confidence=1.0, lift=5.0), OrderedStatistic(items_base=frozenset({'샴푸'}), items_add=frozenset({'광고', '손흥', '손흥민'}), confidence=1.0, lift=5.0), OrderedStatistic(items_base=frozenset({'손흥'}), items_add=frozenset({'광고', '샴푸', '손흥민'}), confidence=1.0, lift=5.0), OrderedStatistic(items_base=frozenset({'손흥민'}), items_add=frozenset({'광고', '샴푸', '손흥'}), confidence=0.2, lift=1.0), OrderedStatistic(items_base=frozenset({'광고', '샴푸'}), items_add=frozenset({'손흥', '손흥민'}), confidence=1.0, lift=5.0), OrderedStatistic(items_base=frozenset({'광고', '손흥'}), items_add=frozenset({'샴푸', '손흥민'}), confidence=1.0, lift=5.0), OrderedStatistic(items_base=frozenset({'광고', '손흥민'}), items_add=frozenset({'샴푸', '손흥'}), confidence=1.0, lift=5.0), OrderedStatistic(items_base=frozenset({'샴푸', '손흥'}), items_add=frozenset({'광고', '손흥민'}), confidence=1.0, lift=5.0), OrderedStatistic(items_base=frozenset({'샴푸', '손흥민'}), items_add=frozenset({'광고', '손흥'}), confidence=1.0, lift=5.0), OrderedStatistic(items_base=frozenset({'손흥', '손흥민'}), items_add=frozenset({'광고', '샴푸'}), confidence=1.0, lift=5.0), OrderedStatistic(items_base=frozenset({'광고', '샴푸', '손흥'}), items_add=frozenset({'손흥민'}), confidence=1.0, lift=1.0), OrderedStatistic(items_base=frozenset({'광고', '샴푸', '손흥민'}), items_add=frozenset({'손흥'}), confidence=1.0, lift=5.0), OrderedStatistic(items_base=frozenset({'광고', '손흥', '손흥민'}), items_add=frozenset({'샴푸'}), confidence=1.0, lift=5.0), OrderedStatistic(items_base=frozenset({'샴푸', '손흥', '손흥민'}), items_add=frozenset({'광고'}), confidence=1.0, lift=5.0)]), RelationRecord(items=frozenset({'샴푸', '모델', '손흥', '손흥민'}), support=0.2, ordered_statistics=[OrderedStatistic(items_base=frozenset(), items_add=frozenset({'샴푸', '모델', '손흥', '손흥민'}), confidence=0.2, lift=1.0), OrderedStatistic(items_base=frozenset({'모델'}), items_add=frozenset({'샴푸', '손흥', '손흥민'}), confidence=1.0, lift=5.0), OrderedStatistic(items_base=frozenset({'샴푸'}), items_add=frozenset({'모델', '손흥', '손흥민'}), confidence=1.0, lift=5.0), OrderedStatistic(items_base=frozenset({'손흥'}), items_add=frozenset({'샴푸', '모델', '손흥민'}), confidence=1.0, lift=5.0), OrderedStatistic(items_base=frozenset({'손흥민'}), items_add=frozenset({'샴푸', '모델', '손흥'}), confidence=0.2, lift=1.0), OrderedStatistic(items_base=frozenset({'샴푸', '모델'}), items_add=frozenset({'손흥', '손흥민'}), confidence=1.0, lift=5.0), OrderedStatistic(items_base=frozenset({'모델', '손흥'}), items_add=frozenset({'샴푸', '손흥민'}), confidence=1.0, lift=5.0), OrderedStatistic(items_base=frozenset({'모델', '손흥민'}), items_add=frozenset({'샴푸', '손흥'}), confidence=1.0, lift=5.0), OrderedStatistic(items_base=frozenset({'샴푸', '손흥'}), items_add=frozenset({'모델', '손흥민'}), confidence=1.0, lift=5.0), OrderedStatistic(items_base=frozenset({'샴푸', '손흥민'}), items_add=frozenset({'모델', '손흥'}), confidence=1.0, lift=5.0), OrderedStatistic(items_base=frozenset({'손흥', '손흥민'}), items_add=frozenset({'샴푸', '모델'}), confidence=1.0, lift=5.0), OrderedStatistic(items_base=frozenset({'샴푸', '모델', '손흥'}), items_add=frozenset({'손흥민'}), confidence=1.0, lift=1.0), OrderedStatistic(items_base=frozenset({'샴푸', '모델', '손흥민'}), items_add=frozenset({'손흥'}), confidence=1.0, lift=5.0), OrderedStatistic(items_base=frozenset({'모델', '손흥', '손흥민'}), items_add=frozenset({'샴푸'}), confidence=1.0, lift=5.0), OrderedStatistic(items_base=frozenset({'샴푸', '손흥', '손흥민'}), items_add=frozenset({'모델'}), confidence=1.0, lift=5.0)]), RelationRecord(items=frozenset({'조선', '수국', '선수', '손흥민'}), support=0.2, ordered_statistics=[OrderedStatistic(items_base=frozenset(), items_add=frozenset({'조선', '수국', '선수', '손흥민'}), confidence=0.2, lift=1.0), OrderedStatistic(items_base=frozenset({'선수'}), items_add=frozenset({'조선', '수국', '손흥민'}), confidence=1.0, lift=5.0), OrderedStatistic(items_base=frozenset({'손흥민'}), items_add=frozenset({'조선', '선수', '수국'}), confidence=0.2, lift=1.0), OrderedStatistic(items_base=frozenset({'수국'}), items_add=frozenset({'조선', '선수', '손흥민'}), confidence=1.0, lift=5.0), OrderedStatistic(items_base=frozenset({'조선'}), items_add=frozenset({'선수', '수국', '손흥민'}), confidence=1.0, lift=5.0), OrderedStatistic(items_base=frozenset({'선수', '손흥민'}), items_add=frozenset({'조선', '수국'}), confidence=1.0, lift=5.0), OrderedStatistic(items_base=frozenset({'선수', '수국'}), items_add=frozenset({'조선', '손흥민'}), confidence=1.0, lift=5.0), OrderedStatistic(items_base=frozenset({'조선', '선수'}), items_add=frozenset({'수국', '손흥민'}), confidence=1.0, lift=5.0), OrderedStatistic(items_base=frozenset({'수국', '손흥민'}), items_add=frozenset({'조선', '선수'}), confidence=1.0, lift=5.0), OrderedStatistic(items_base=frozenset({'조선', '손흥민'}), items_add=frozenset({'선수', '수국'}), confidence=1.0, lift=5.0), OrderedStatistic(items_base=frozenset({'조선', '수국'}), items_add=frozenset({'선수', '손흥민'}), confidence=1.0, lift=5.0), OrderedStatistic(items_base=frozenset({'수국', '선수', '손흥민'}), items_add=frozenset({'조선'}), confidence=1.0, lift=5.0), OrderedStatistic(items_base=frozenset({'조선', '선수', '손흥민'}), items_add=frozenset({'수국'}), confidence=1.0, lift=5.0), OrderedStatistic(items_base=frozenset({'조선', '선수', '수국'}), items_add=frozenset({'손흥민'}), confidence=1.0, lift=1.0), OrderedStatistic(items_base=frozenset({'조선', '수국', '손흥민'}), items_add=frozenset({'선수'}), confidence=1.0, lift=5.0)]), RelationRecord(items=frozenset({'수국', '파팅', '선수', '손흥민'}), support=0.2, ordered_statistics=[OrderedStatistic(items_base=frozenset(), items_add=frozenset({'수국', '파팅', '선수', '손흥민'}), confidence=0.2, lift=1.0), OrderedStatistic(items_base=frozenset({'선수'}), items_add=frozenset({'파팅', '수국', '손흥민'}), confidence=1.0, lift=5.0), OrderedStatistic(items_base=frozenset({'손흥민'}), items_add=frozenset({'선수', '파팅', '수국'}), confidence=0.2, lift=1.0), OrderedStatistic(items_base=frozenset({'수국'}), items_add=frozenset({'파팅', '선수', '손흥민'}), confidence=1.0, lift=5.0), OrderedStatistic(items_base=frozenset({'파팅'}), items_add=frozenset({'선수', '수국', '손흥민'}), confidence=1.0, lift=5.0), OrderedStatistic(items_base=frozenset({'선수', '손흥민'}), items_add=frozenset({'파팅', '수국'}), confidence=1.0, lift=5.0), OrderedStatistic(items_base=frozenset({'선수', '수국'}), items_add=frozenset({'파팅', '손흥민'}), confidence=1.0, lift=5.0), OrderedStatistic(items_base=frozenset({'파팅', '선수'}), items_add=frozenset({'수국', '손흥민'}), confidence=1.0, lift=5.0), OrderedStatistic(items_base=frozenset({'수국', '손흥민'}), items_add=frozenset({'파팅', '선수'}), confidence=1.0, lift=5.0), OrderedStatistic(items_base=frozenset({'파팅', '손흥민'}), items_add=frozenset({'선수', '수국'}), confidence=1.0, lift=5.0), OrderedStatistic(items_base=frozenset({'파팅', '수국'}), items_add=frozenset({'선수', '손흥민'}), confidence=1.0, lift=5.0), OrderedStatistic(items_base=frozenset({'수국', '선수', '손흥민'}), items_add=frozenset({'파팅'}), confidence=1.0, lift=5.0), OrderedStatistic(items_base=frozenset({'파팅', '선수', '손흥민'}), items_add=frozenset({'수국'}), confidence=1.0, lift=5.0), OrderedStatistic(items_base=frozenset({'파팅', '선수', '수국'}), items_add=frozenset({'손흥민'}), confidence=1.0, lift=1.0), OrderedStatistic(items_base=frozenset({'파팅', '수국', '손흥민'}), items_add=frozenset({'선수'}), confidence=1.0, lift=5.0)]), RelationRecord(items=frozenset({'조선', '파팅', '선수', '손흥민'}), support=0.2, ordered_statistics=[OrderedStatistic(items_base=frozenset(), items_add=frozenset({'조선', '파팅', '선수', '손흥민'}), confidence=0.2, lift=1.0), OrderedStatistic(items_base=frozenset({'선수'}), items_add=frozenset({'조선', '파팅', '손흥민'}), confidence=1.0, lift=5.0), OrderedStatistic(items_base=frozenset({'손흥민'}), items_add=frozenset({'조선', '파팅', '선수'}), confidence=0.2, lift=1.0), OrderedStatistic(items_base=frozenset({'조선'}), items_add=frozenset({'파팅', '선수', '손흥민'}), confidence=1.0, lift=5.0), OrderedStatistic(items_base=frozenset({'파팅'}), items_add=frozenset({'조선', '선수', '손흥민'}), confidence=1.0, lift=5.0), OrderedStatistic(items_base=frozenset({'선수', '손흥민'}), items_add=frozenset({'조선', '파팅'}), confidence=1.0, lift=5.0), OrderedStatistic(items_base=frozenset({'조선', '선수'}), items_add=frozenset({'파팅', '손흥민'}), confidence=1.0, lift=5.0), OrderedStatistic(items_base=frozenset({'파팅', '선수'}), items_add=frozenset({'조선', '손흥민'}), confidence=1.0, lift=5.0), OrderedStatistic(items_base=frozenset({'조선', '손흥민'}), items_add=frozenset({'파팅', '선수'}), confidence=1.0, lift=5.0), OrderedStatistic(items_base=frozenset({'파팅', '손흥민'}), items_add=frozenset({'조선', '선수'}), confidence=1.0, lift=5.0), OrderedStatistic(items_base=frozenset({'조선', '파팅'}), items_add=frozenset({'선수', '손흥민'}), confidence=1.0, lift=5.0), OrderedStatistic(items_base=frozenset({'조선', '선수', '손흥민'}), items_add=frozenset({'파팅'}), confidence=1.0, lift=5.0), OrderedStatistic(items_base=frozenset({'파팅', '선수', '손흥민'}), items_add=frozenset({'조선'}), confidence=1.0, lift=5.0), OrderedStatistic(items_base=frozenset({'조선', '파팅', '선수'}), items_add=frozenset({'손흥민'}), confidence=1.0, lift=1.0), OrderedStatistic(items_base=frozenset({'조선', '파팅', '손흥민'}), items_add=frozenset({'선수'}), confidence=1.0, lift=5.0)]), RelationRecord(items=frozenset({'조선', '파팅', '선수', '수국'}), support=0.2, ordered_statistics=[OrderedStatistic(items_base=frozenset(), items_add=frozenset({'조선', '파팅', '선수', '수국'}), confidence=0.2, lift=1.0), OrderedStatistic(items_base=frozenset({'선수'}), items_add=frozenset({'조선', '파팅', '수국'}), confidence=1.0, lift=5.0), OrderedStatistic(items_base=frozenset({'수국'}), items_add=frozenset({'조선', '파팅', '선수'}), confidence=1.0, lift=5.0), OrderedStatistic(items_base=frozenset({'조선'}), items_add=frozenset({'파팅', '선수', '수국'}), confidence=1.0, lift=5.0), OrderedStatistic(items_base=frozenset({'파팅'}), items_add=frozenset({'조선', '선수', '수국'}), confidence=1.0, lift=5.0), OrderedStatistic(items_base=frozenset({'선수', '수국'}), items_add=frozenset({'조선', '파팅'}), confidence=1.0, lift=5.0), OrderedStatistic(items_base=frozenset({'조선', '선수'}), items_add=frozenset({'파팅', '수국'}), confidence=1.0, lift=5.0), OrderedStatistic(items_base=frozenset({'파팅', '선수'}), items_add=frozenset({'조선', '수국'}), confidence=1.0, lift=5.0), OrderedStatistic(items_base=frozenset({'조선', '수국'}), items_add=frozenset({'파팅', '선수'}), confidence=1.0, lift=5.0), OrderedStatistic(items_base=frozenset({'파팅', '수국'}), items_add=frozenset({'조선', '선수'}), confidence=1.0, lift=5.0), OrderedStatistic(items_base=frozenset({'조선', '파팅'}), items_add=frozenset({'선수', '수국'}), confidence=1.0, lift=5.0), OrderedStatistic(items_base=frozenset({'조선', '선수', '수국'}), items_add=frozenset({'파팅'}), confidence=1.0, lift=5.0), OrderedStatistic(items_base=frozenset({'파팅', '선수', '수국'}), items_add=frozenset({'조선'}), confidence=1.0, lift=5.0), OrderedStatistic(items_base=frozenset({'조선', '파팅', '선수'}), items_add=frozenset({'수국'}), confidence=1.0, lift=5.0), OrderedStatistic(items_base=frozenset({'조선', '파팅', '수국'}), items_add=frozenset({'선수'}), confidence=1.0, lift=5.0)]), RelationRecord(items=frozenset({'조선', '파팅', '수국', '손흥민'}), support=0.2, ordered_statistics=[OrderedStatistic(items_base=frozenset(), items_add=frozenset({'조선', '파팅', '수국', '손흥민'}), confidence=0.2, lift=1.0), OrderedStatistic(items_base=frozenset({'손흥민'}), items_add=frozenset({'조선', '파팅', '수국'}), confidence=0.2, lift=1.0), OrderedStatistic(items_base=frozenset({'수국'}), items_add=frozenset({'조선', '파팅', '손흥민'}), confidence=1.0, lift=5.0), OrderedStatistic(items_base=frozenset({'조선'}), items_add=frozenset({'파팅', '수국', '손흥민'}), confidence=1.0, lift=5.0), OrderedStatistic(items_base=frozenset({'파팅'}), items_add=frozenset({'조선', '수국', '손흥민'}), confidence=1.0, lift=5.0), OrderedStatistic(items_base=frozenset({'수국', '손흥민'}), items_add=frozenset({'조선', '파팅'}), confidence=1.0, lift=5.0), OrderedStatistic(items_base=frozenset({'조선', '손흥민'}), items_add=frozenset({'파팅', '수국'}), confidence=1.0, lift=5.0), OrderedStatistic(items_base=frozenset({'파팅', '손흥민'}), items_add=frozenset({'조선', '수국'}), confidence=1.0, lift=5.0), OrderedStatistic(items_base=frozenset({'조선', '수국'}), items_add=frozenset({'파팅', '손흥민'}), confidence=1.0, lift=5.0), OrderedStatistic(items_base=frozenset({'파팅', '수국'}), items_add=frozenset({'조선', '손흥민'}), confidence=1.0, lift=5.0), OrderedStatistic(items_base=frozenset({'조선', '파팅'}), items_add=frozenset({'수국', '손흥민'}), confidence=1.0, lift=5.0), OrderedStatistic(items_base=frozenset({'조선', '수국', '손흥민'}), items_add=frozenset({'파팅'}), confidence=1.0, lift=5.0), OrderedStatistic(items_base=frozenset({'파팅', '수국', '손흥민'}), items_add=frozenset({'조선'}), confidence=1.0, lift=5.0), OrderedStatistic(items_base=frozenset({'조선', '파팅', '손흥민'}), items_add=frozenset({'수국'}), confidence=1.0, lift=5.0), OrderedStatistic(items_base=frozenset({'조선', '파팅', '수국'}), items_add=frozenset({'손흥민'}), confidence=1.0, lift=1.0)]), RelationRecord(items=frozenset({'샴푸', '모델', '손흥', '손흥민', '광고'}), support=0.2, ordered_statistics=[OrderedStatistic(items_base=frozenset(), items_add=frozenset({'샴푸', '광고', '모델', '손흥', '손흥민'}), confidence=0.2, lift=1.0), OrderedStatistic(items_base=frozenset({'광고'}), items_add=frozenset({'샴푸', '모델', '손흥', '손흥민'}), confidence=1.0, lift=5.0), OrderedStatistic(items_base=frozenset({'모델'}), items_add=frozenset({'샴푸', '광고', '손흥', '손흥민'}), confidence=1.0, lift=5.0), OrderedStatistic(items_base=frozenset({'샴푸'}), items_add=frozenset({'광고', '모델', '손흥', '손흥민'}), confidence=1.0, lift=5.0), OrderedStatistic(items_base=frozenset({'손흥'}), items_add=frozenset({'샴푸', '광고', '모델', '손흥민'}), confidence=1.0, lift=5.0), OrderedStatistic(items_base=frozenset({'손흥민'}), items_add=frozenset({'샴푸', '모델', '손흥', '광고'}), confidence=0.2, lift=1.0), OrderedStatistic(items_base=frozenset({'광고', '모델'}), items_add=frozenset({'샴푸', '손흥', '손흥민'}), confidence=1.0, lift=5.0), OrderedStatistic(items_base=frozenset({'광고', '샴푸'}), items_add=frozenset({'모델', '손흥', '손흥민'}), confidence=1.0, lift=5.0), OrderedStatistic(items_base=frozenset({'광고', '손흥'}), items_add=frozenset({'샴푸', '모델', '손흥민'}), confidence=1.0, lift=5.0), OrderedStatistic(items_base=frozenset({'광고', '손흥민'}), items_add=frozenset({'샴푸', '모델', '손흥'}), confidence=1.0, lift=5.0), OrderedStatistic(items_base=frozenset({'샴푸', '모델'}), items_add=frozenset({'광고', '손흥', '손흥민'}), confidence=1.0, lift=5.0), OrderedStatistic(items_base=frozenset({'모델', '손흥'}), items_add=frozenset({'샴푸', '광고', '손흥민'}), confidence=1.0, lift=5.0), OrderedStatistic(items_base=frozenset({'모델', '손흥민'}), items_add=frozenset({'샴푸', '손흥', '광고'}), confidence=1.0, lift=5.0), OrderedStatistic(items_base=frozenset({'샴푸', '손흥'}), items_add=frozenset({'광고', '모델', '손흥민'}), confidence=1.0, lift=5.0), OrderedStatistic(items_base=frozenset({'샴푸', '손흥민'}), items_add=frozenset({'광고', '모델', '손흥'}), confidence=1.0, lift=5.0), OrderedStatistic(items_base=frozenset({'손흥', '손흥민'}), items_add=frozenset({'샴푸', '모델', '광고'}), confidence=1.0, lift=5.0), OrderedStatistic(items_base=frozenset({'광고', '샴푸', '모델'}), items_add=frozenset({'손흥', '손흥민'}), confidence=1.0, lift=5.0), OrderedStatistic(items_base=frozenset({'광고', '모델', '손흥'}), items_add=frozenset({'샴푸', '손흥민'}), confidence=1.0, lift=5.0), OrderedStatistic(items_base=frozenset({'광고', '모델', '손흥민'}), items_add=frozenset({'샴푸', '손흥'}), confidence=1.0, lift=5.0), OrderedStatistic(items_base=frozenset({'광고', '샴푸', '손흥'}), items_add=frozenset({'모델', '손흥민'}), confidence=1.0, lift=5.0), OrderedStatistic(items_base=frozenset({'광고', '샴푸', '손흥민'}), items_add=frozenset({'모델', '손흥'}), confidence=1.0, lift=5.0), OrderedStatistic(items_base=frozenset({'광고', '손흥', '손흥민'}), items_add=frozenset({'샴푸', '모델'}), confidence=1.0, lift=5.0), OrderedStatistic(items_base=frozenset({'샴푸', '모델', '손흥'}), items_add=frozenset({'광고', '손흥민'}), confidence=1.0, lift=5.0), OrderedStatistic(items_base=frozenset({'샴푸', '모델', '손흥민'}), items_add=frozenset({'광고', '손흥'}), confidence=1.0, lift=5.0), OrderedStatistic(items_base=frozenset({'모델', '손흥', '손흥민'}), items_add=frozenset({'샴푸', '광고'}), confidence=1.0, lift=5.0), OrderedStatistic(items_base=frozenset({'샴푸', '손흥', '손흥민'}), items_add=frozenset({'광고', '모델'}), confidence=1.0, lift=5.0), OrderedStatistic(items_base=frozenset({'광고', '샴푸', '모델', '손흥'}), items_add=frozenset({'손흥민'}), confidence=1.0, lift=1.0), OrderedStatistic(items_base=frozenset({'광고', '샴푸', '모델', '손흥민'}), items_add=frozenset({'손흥'}), confidence=1.0, lift=5.0), OrderedStatistic(items_base=frozenset({'광고', '모델', '손흥', '손흥민'}), items_add=frozenset({'샴푸'}), confidence=1.0, lift=5.0), OrderedStatistic(items_base=frozenset({'광고', '샴푸', '손흥', '손흥민'}), items_add=frozenset({'모델'}), confidence=1.0, lift=5.0), OrderedStatistic(items_base=frozenset({'샴푸', '모델', '손흥', '손흥민'}), items_add=frozenset({'광고'}), confidence=1.0, lift=5.0)]), RelationRecord(items=frozenset({'조선', '파팅', '선수', '수국', '손흥민'}), support=0.2, ordered_statistics=[OrderedStatistic(items_base=frozenset(), items_add=frozenset({'조선', '파팅', '선수', '수국', '손흥민'}), confidence=0.2, lift=1.0), OrderedStatistic(items_base=frozenset({'선수'}), items_add=frozenset({'조선', '파팅', '수국', '손흥민'}), confidence=1.0, lift=5.0), OrderedStatistic(items_base=frozenset({'손흥민'}), items_add=frozenset({'조선', '파팅', '선수', '수국'}), confidence=0.2, lift=1.0), OrderedStatistic(items_base=frozenset({'수국'}), items_add=frozenset({'조선', '파팅', '선수', '손흥민'}), confidence=1.0, lift=5.0), OrderedStatistic(items_base=frozenset({'조선'}), items_add=frozenset({'파팅', '손흥민', '선수', '수국'}), confidence=1.0, lift=5.0), OrderedStatistic(items_base=frozenset({'파팅'}), items_add=frozenset({'조선', '손흥민', '선수', '수국'}), confidence=1.0, lift=5.0), OrderedStatistic(items_base=frozenset({'선수', '손흥민'}), items_add=frozenset({'조선', '파팅', '수국'}), confidence=1.0, lift=5.0), OrderedStatistic(items_base=frozenset({'선수', '수국'}), items_add=frozenset({'조선', '파팅', '손흥민'}), confidence=1.0, lift=5.0), OrderedStatistic(items_base=frozenset({'조선', '선수'}), items_add=frozenset({'파팅', '수국', '손흥민'}), confidence=1.0, lift=5.0), OrderedStatistic(items_base=frozenset({'파팅', '선수'}), items_add=frozenset({'조선', '수국', '손흥민'}), confidence=1.0, lift=5.0), OrderedStatistic(items_base=frozenset({'수국', '손흥민'}), items_add=frozenset({'조선', '파팅', '선수'}), confidence=1.0, lift=5.0), OrderedStatistic(items_base=frozenset({'조선', '손흥민'}), items_add=frozenset({'파팅', '선수', '수국'}), confidence=1.0, lift=5.0), OrderedStatistic(items_base=frozenset({'파팅', '손흥민'}), items_add=frozenset({'조선', '선수', '수국'}), confidence=1.0, lift=5.0), OrderedStatistic(items_base=frozenset({'조선', '수국'}), items_add=frozenset({'파팅', '선수', '손흥민'}), confidence=1.0, lift=5.0), OrderedStatistic(items_base=frozenset({'파팅', '수국'}), items_add=frozenset({'조선', '선수', '손흥민'}), confidence=1.0, lift=5.0), OrderedStatistic(items_base=frozenset({'조선', '파팅'}), items_add=frozenset({'손흥민', '선수', '수국'}), confidence=1.0, lift=5.0), OrderedStatistic(items_base=frozenset({'수국', '선수', '손흥민'}), items_add=frozenset({'조선', '파팅'}), confidence=1.0, lift=5.0), OrderedStatistic(items_base=frozenset({'조선', '선수', '손흥민'}), items_add=frozenset({'파팅', '수국'}), confidence=1.0, lift=5.0), OrderedStatistic(items_base=frozenset({'파팅', '선수', '손흥민'}), items_add=frozenset({'조선', '수국'}), confidence=1.0, lift=5.0), OrderedStatistic(items_base=frozenset({'조선', '선수', '수국'}), items_add=frozenset({'파팅', '손흥민'}), confidence=1.0, lift=5.0), OrderedStatistic(items_base=frozenset({'파팅', '선수', '수국'}), items_add=frozenset({'조선', '손흥민'}), confidence=1.0, lift=5.0), OrderedStatistic(items_base=frozenset({'조선', '파팅', '선수'}), items_add=frozenset({'수국', '손흥민'}), confidence=1.0, lift=5.0), OrderedStatistic(items_base=frozenset({'조선', '수국', '손흥민'}), items_add=frozenset({'파팅', '선수'}), confidence=1.0, lift=5.0), OrderedStatistic(items_base=frozenset({'파팅', '수국', '손흥민'}), items_add=frozenset({'조선', '선수'}), confidence=1.0, lift=5.0), OrderedStatistic(items_base=frozenset({'조선', '파팅', '손흥민'}), items_add=frozenset({'선수', '수국'}), confidence=1.0, lift=5.0), OrderedStatistic(items_base=frozenset({'조선', '파팅', '수국'}), items_add=frozenset({'선수', '손흥민'}), confidence=1.0, lift=5.0), OrderedStatistic(items_base=frozenset({'조선', '수국', '선수', '손흥민'}), items_add=frozenset({'파팅'}), confidence=1.0, lift=5.0), OrderedStatistic(items_base=frozenset({'수국', '파팅', '선수', '손흥민'}), items_add=frozenset({'조선'}), confidence=1.0, lift=5.0), OrderedStatistic(items_base=frozenset({'조선', '파팅', '선수', '손흥민'}), items_add=frozenset({'수국'}), confidence=1.0, lift=5.0), OrderedStatistic(items_base=frozenset({'조선', '파팅', '선수', '수국'}), items_add=frozenset({'손흥민'}), confidence=1.0, lift=1.0), OrderedStatistic(items_base=frozenset({'조선', '파팅', '수국', '손흥민'}), items_add=frozenset({'선수'}), confidence=1.0, lift=5.0)])]\n"
    }
   ],
   "source": [
    "\n",
    "ress = list(apriori(transactions))\n",
    "\n",
    "# , min_support=0.1, min_confidence=0.2, min_lift=5, max_length=2))\n",
    "print(ress)\n",
    "\n",
    "#테스트 진행중."
   ]
  },
  {
   "cell_type": "code",
   "execution_count": 54,
   "metadata": {
    "tags": []
   },
   "outputs": [
    {
     "output_type": "execute_result",
     "data": {
      "text/plain": "        소스/타겟  support(지지도)  confidence(신뢰도)  lift(향상도)\n3   [광고, 손흥민]           0.2              0.2        1.0\n4   [만두, 손흥민]           0.4              0.4        1.0\n7   [모델, 손흥민]           0.2              0.2        1.0\n9   [샴푸, 손흥민]           0.2              0.2        1.0\n10  [선수, 손흥민]           0.2              0.2        1.0",
      "text/html": "<div>\n<style scoped>\n    .dataframe tbody tr th:only-of-type {\n        vertical-align: middle;\n    }\n\n    .dataframe tbody tr th {\n        vertical-align: top;\n    }\n\n    .dataframe thead th {\n        text-align: right;\n    }\n</style>\n<table border=\"1\" class=\"dataframe\">\n  <thead>\n    <tr style=\"text-align: right;\">\n      <th></th>\n      <th>소스/타겟</th>\n      <th>support(지지도)</th>\n      <th>confidence(신뢰도)</th>\n      <th>lift(향상도)</th>\n    </tr>\n  </thead>\n  <tbody>\n    <tr>\n      <th>3</th>\n      <td>[광고, 손흥민]</td>\n      <td>0.2</td>\n      <td>0.2</td>\n      <td>1.0</td>\n    </tr>\n    <tr>\n      <th>4</th>\n      <td>[만두, 손흥민]</td>\n      <td>0.4</td>\n      <td>0.4</td>\n      <td>1.0</td>\n    </tr>\n    <tr>\n      <th>7</th>\n      <td>[모델, 손흥민]</td>\n      <td>0.2</td>\n      <td>0.2</td>\n      <td>1.0</td>\n    </tr>\n    <tr>\n      <th>9</th>\n      <td>[샴푸, 손흥민]</td>\n      <td>0.2</td>\n      <td>0.2</td>\n      <td>1.0</td>\n    </tr>\n    <tr>\n      <th>10</th>\n      <td>[선수, 손흥민]</td>\n      <td>0.2</td>\n      <td>0.2</td>\n      <td>1.0</td>\n    </tr>\n  </tbody>\n</table>\n</div>"
     },
     "metadata": {},
     "execution_count": 54
    }
   ],
   "source": [
    "\n",
    "columns = ['소스/타겟', 'support(지지도)', 'confidence(신뢰도)', 'lift(향상도)']\n",
    "network_dl = pd.DataFrame(columns=columns)\n",
    "\n",
    "\n",
    "\n",
    "for result in ress :\n",
    "    # print(items[0], items[1],result.support, result.ordered_statistics[0].confidence, result.ordered_statistics[0].lift)\n",
    "    if len(result.items) == 2 :\n",
    "        items = [x for x in result.items]\n",
    "        row = [items, result.support, result.ordered_statistics[0].confidence, result.ordered_statistics[0].lift]\n",
    "        series = pd.Series(row, index=network_dl.columns)\n",
    "        network_dl = network_dl.append(series, ignore_index=True)\n",
    "\n",
    "#series.append() = [network_dl['소스/타겟'].apply(lambda x : '손흥민' in x)]\n",
    "\n",
    "# network_dl['테스트'] = network_dl['소스/타겟']\n",
    "a = network_dl[network_dl['소스/타겟'].apply(lambda x : '손흥민' in x)]\n",
    "\n",
    "# type(a)\n",
    "\n",
    "# print(a)\n",
    "\n",
    "# network_dl.head()\n",
    "a.head()"
   ]
  },
  {
   "cell_type": "code",
   "execution_count": 55,
   "metadata": {
    "tags": []
   },
   "outputs": [
    {
     "output_type": "stream",
     "name": "stdout",
     "text": "['광고', '만두', '모델', '샴푸', '선수', '손흥', '수국', '조선', '파팅']\n"
    }
   ],
   "source": [
    "test_list = []\n",
    "for tt in a['소스/타겟'] :\n",
    "    for xx in tt :\n",
    "        if(xx != '손흥민') :\n",
    "            test_list.append(xx)\n",
    "\n",
    "\n",
    "print(test_list)"
   ]
  },
  {
   "cell_type": "code",
   "execution_count": 56,
   "metadata": {},
   "outputs": [
    {
     "output_type": "execute_result",
     "data": {
      "text/plain": "        소스/타겟  support(지지도)  confidence(신뢰도)  lift(향상도) 연관키워드 추출\n3   [광고, 손흥민]           0.2              0.2        1.0     [광고]\n4   [만두, 손흥민]           0.4              0.4        1.0     [만두]\n7   [모델, 손흥민]           0.2              0.2        1.0     [모델]\n9   [샴푸, 손흥민]           0.2              0.2        1.0     [샴푸]\n10  [선수, 손흥민]           0.2              0.2        1.0     [선수]\n14  [손흥, 손흥민]           0.2              0.2        1.0     [손흥]\n15  [수국, 손흥민]           0.2              0.2        1.0     [수국]\n16  [조선, 손흥민]           0.2              0.2        1.0     [조선]\n17  [파팅, 손흥민]           0.2              0.2        1.0     [파팅]",
      "text/html": "<div>\n<style scoped>\n    .dataframe tbody tr th:only-of-type {\n        vertical-align: middle;\n    }\n\n    .dataframe tbody tr th {\n        vertical-align: top;\n    }\n\n    .dataframe thead th {\n        text-align: right;\n    }\n</style>\n<table border=\"1\" class=\"dataframe\">\n  <thead>\n    <tr style=\"text-align: right;\">\n      <th></th>\n      <th>소스/타겟</th>\n      <th>support(지지도)</th>\n      <th>confidence(신뢰도)</th>\n      <th>lift(향상도)</th>\n      <th>연관키워드 추출</th>\n    </tr>\n  </thead>\n  <tbody>\n    <tr>\n      <th>3</th>\n      <td>[광고, 손흥민]</td>\n      <td>0.2</td>\n      <td>0.2</td>\n      <td>1.0</td>\n      <td>[광고]</td>\n    </tr>\n    <tr>\n      <th>4</th>\n      <td>[만두, 손흥민]</td>\n      <td>0.4</td>\n      <td>0.4</td>\n      <td>1.0</td>\n      <td>[만두]</td>\n    </tr>\n    <tr>\n      <th>7</th>\n      <td>[모델, 손흥민]</td>\n      <td>0.2</td>\n      <td>0.2</td>\n      <td>1.0</td>\n      <td>[모델]</td>\n    </tr>\n    <tr>\n      <th>9</th>\n      <td>[샴푸, 손흥민]</td>\n      <td>0.2</td>\n      <td>0.2</td>\n      <td>1.0</td>\n      <td>[샴푸]</td>\n    </tr>\n    <tr>\n      <th>10</th>\n      <td>[선수, 손흥민]</td>\n      <td>0.2</td>\n      <td>0.2</td>\n      <td>1.0</td>\n      <td>[선수]</td>\n    </tr>\n    <tr>\n      <th>14</th>\n      <td>[손흥, 손흥민]</td>\n      <td>0.2</td>\n      <td>0.2</td>\n      <td>1.0</td>\n      <td>[손흥]</td>\n    </tr>\n    <tr>\n      <th>15</th>\n      <td>[수국, 손흥민]</td>\n      <td>0.2</td>\n      <td>0.2</td>\n      <td>1.0</td>\n      <td>[수국]</td>\n    </tr>\n    <tr>\n      <th>16</th>\n      <td>[조선, 손흥민]</td>\n      <td>0.2</td>\n      <td>0.2</td>\n      <td>1.0</td>\n      <td>[조선]</td>\n    </tr>\n    <tr>\n      <th>17</th>\n      <td>[파팅, 손흥민]</td>\n      <td>0.2</td>\n      <td>0.2</td>\n      <td>1.0</td>\n      <td>[파팅]</td>\n    </tr>\n  </tbody>\n</table>\n</div>"
     },
     "metadata": {},
     "execution_count": 56
    }
   ],
   "source": [
    "a['연관키워드 추출'] = a['소스/타겟'].apply(lambda x: [y for y in x if y != '손흥민'])\n",
    "\n",
    "a"
   ]
  }
 ]
}