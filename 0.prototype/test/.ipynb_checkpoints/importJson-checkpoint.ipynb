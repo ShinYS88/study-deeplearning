{
 "cells": [
  {
   "cell_type": "code",
   "execution_count": 65,
   "metadata": {},
   "outputs": [],
   "source": [
    "import json\n",
    "import os\n",
    "import glob\n",
    "\n",
    "# path_dir = 'data/news/2020-08'\n",
    "# file_list = os.listdir(path_dir)\n",
    "# file_list\n",
    "\n",
    "path_dir = 'data/news/2020-08/*'\n",
    "file_list = glob.glob(path_dir)\n",
    "# file_list\n",
    "file_list\n",
    "\n",
    "file_list_json = []\n",
    "\n",
    "for path in file_list :\n",
    "    file_list2 = glob.glob(path+'/*')\n",
    "#     print([file for file in file_list2 if file.endswith(\".json\")])\n",
    "#     file_list_json += [file for file in file_list2 if file.endswith(\".json\")]\n",
    "    file_list_json.extend([file for file in file_list2 if file.endswith(\".json\")])\n",
    "    \n"
   ]
  },
  {
   "cell_type": "code",
   "execution_count": 71,
   "metadata": {},
   "outputs": [
    {
     "name": "stdout",
     "output_type": "stream",
     "text": [
      "{'modDate': '2020-08-01 06:46:34', 'contents': [{'pos': \"신종/NNG 코로나바이러스/NNP 감염증/NNG (/SS 코로나/NNG 19/SN )/SS 유행/NNG 이후/NNG 제약/NNG ·/SP 바이오/NNG 업체/NNG 의/JKG '/SS 코로나/NNG 19/SN 상술/NNG '/SS 경쟁/NNG 이/JKS 끊이/VV 지/EC 않/VX 자/EC 국민/NNG 에게/JKB 헛되/VA ㄴ/ETM 희망/NNG 을/JKO 심/VV 어/EC 주/VX 고/EC 있/VX 다는/ETM 비판/NNG 이/JKS 나오/VV ㄴ다/EF ./SF\", 'text': \"신종 코로나바이러스 감염증(코로나19) 유행 이후 제약·바이오 업체의 '코로나19 상술' 경쟁이 끊이지 않자 국민에게 헛된 희망을 심어주고 있다는 비판이 나온다.\"}, {'pos': '1/SN 일/NNB 제약바이오업/NNG 계/XSN 에/JKB 따르/VV 면/EC 업체/NNG 들/XSN 은/JX 코로나/NNG 19/SN 신약/NNG 개발/NNG 이나/JC 약물/NNG 재창출/NNG 연구/NNG 와/JC 관련/NNG 되/XSV ㄴ/ETM 자료/NNG 를/JKO 쏟/VV 아/EC 내/VX 며/EC 포털/NNG 의/JKG 실시간/NNG 검색어/NNG 와/JC 뉴스토픽/NNG 에/JKB 회사/NNG 의/JKG 이름/NNG 을/JKO 올리/VV 는/ETM 데/NNB 혈안/NNG 이/JKS 되/VV 어/EC 있/VX 다/EF ./SF', 'text': '1일 제약바이오업계에 따르면 업체들은 코로나19 신약 개발이나 약물 재창출 연구와 관련된 자료를 쏟아내며 포털의 실시간 검색어와 뉴스토픽에 회사의 이름을 올리는 데 혈안이 돼 있다.'}, {'pos': '포털/NNG 에/JKB 이름/NNG 이/JKS 올라가/VV 면/EC 주가/NNG 가/JKS 급등/NNG 하/XSV 는/ETM 현상/NNG 을/JKO 노리/VV 는/ETM 것/NNB 이/VCP 다/EF ./SF', 'text': '포털에 이름이 올라가면 주가가 급등하는 현상을 노리는 것이다.'}, {'pos': '이/NP 에/JKB 제약사/NNG 들/XSN 은/JX 전임/NNG 상/XSN 단계/NNG 이/VCP ㄴ/ETM 동물실험/NNG 이나/JC 시험관/NNG 나/NP 의/JKG 세포/NNG 실험/NNG (/SS 이/VCP ㄴ/ETM 비트/NNG 로/JKB )/SS 중간결과/NNG 까지/JX 앞/NNG 다투/VV 어/EC 발표/NNG 하/XSV ㄴ다/EF ./SF', 'text': '이에 제약사들은 전임상 단계인 동물실험이나 시험관 내 세포 실험(인 비트로) 중간결과까지 앞다퉈 발표한다.'}, {'pos': '급기야/MAG 의약품/NNG 사용/NNG 승인/NNG 이/JKS 미뤄졌/NNG 이/VCP 지만/EC ,/SP 자체/NNG 성능/NNG 평가/NNG 는/JX 훌륭/XR 하/XSA 았/EP 다는/ETM 자기변명/NNG 식/NNB 의/JKG 자료/NNG 까지/JX 나오/VV ㄴ다/EF ./SF', 'text': '급기야 의약품 사용 승인이 미뤄졌지만, 자체 성능 평가는 훌륭했다는 자기변명 식의 자료까지 나온다.'}, {'pos': '그러나/MAJ 이렇/VA 게/EC 홍보/NNG 에/JKB 열/NNG 을/JKO 올리/VV 는/ETM 제약바이오기업/NNG 중/NNB 에/JKB 는/JX 임상시험/NNG 허가/NNG 도/JX 받/VV 지/EC 않/VX 은/ETM 회사/NNG 가/JKS 훨씬/MAG 많/VA 다/EF ./SF', 'text': '그러나 이렇게 홍보에 열을 올리는 제약바이오기업 중에는 임상시험 허가도 받지 않은 회사가 훨씬 많다.'}, {'pos': '현재/NNG 국내/NNG 에서/JKB 진행/NNG 중/NNB 이/VCP ㄴ/ETM 코로나/NNG 19/SN 의약품/NNG 임상/NNG 은/JX 13/SN 건/NNB (/SS 치료제/NNG 11/SN 건/NNB ,/SP 백신/NNG 2/SN 건/NNB )/SS 이/VCP 다/EF ./SF', 'text': '현재 국내에서 진행 중인 코로나19 의약품 임상은 13건(치료제 11건, 백신 2건)이다.'}, {'pos': '치료제/NNG 11/SN 것/NNB ㄴ/JX 임상/NNG 은/JX 대부분/NNG 연구자/NNG 임상/NNG 이나/JC 임상/NNG 2/SN 상/XSN 단계/NNG 이/VCP 다/EF ./SF', 'text': '치료제 11건 임상은 대부분 연구자 임상이나 임상 2상 단계다.'}, {'pos': '연구자/NNG 임상/NNG 은/JX 안전/NNG 성/XSN 과/JC 유효/NNG 성/XSN 이/JKS 검증/NNG 되/XSV 지/EC 않/VX 은/ETM 약/NNG 이나/JC 시판/NNG 중/NNB 이/VCP ㄴ/ETM 약/NNG 으로/JKB 수행/NNG 하/XSV 는/ETM 연구/NNG 목적/NNG 의/JKG 임상/NNG 을/JKO 말/NNG 하/XSV ㄴ다/EF ./SF', 'text': '연구자 임상은 안전성과 유효성이 검증되지 않은 약이나 시판 중인 약으로 수행하는 연구 목적의 임상을 말한다.'}, {'pos': '국내/NNG 개발/NNG 백신/NNG 은/JX 1/SN //SP 2/SN a/SL 상/NNG 으로/JKB 안전/NNG 성/XSN ,/SP 내약/NNG 성/XSN ,/SP 면역원/NNG 성/XSN 을/JKO 평가/NNG 하/XSV 고/EC 있/VX 다/EF ./SF', 'text': '국내 개발 백신은 1/2a상으로 안전성, 내약성, 면역원성을 평가하고 있다.'}, {'pos': '실제로/MAG 의약품/NNG 개발/NNG 과정/NNG 은/JX 멀/VA 고/EC 도/JX 험난/XR 하/XSA 다/EF ./SF', 'text': '실제로 의약품 개발 과정은 멀고도 험난하다.'}, {'pos': '전임/NNG 상/XSN 시험/NNG 에서/JKB 동물/NNG 에/JKB 테스트/NNG 하/XSA ㄴ/ETM 뒤/NNG 통과/NNG 하/XSV 면/EC 사람/NNG 을/JKO 대상/NNG 으로/JKB 1/SN 상/NNG 을/JKO 진행/NNG 하/XSV 는데/EC ,/SP 안전/NNG 성/XSN 검증/NNG 을/JKO 최우선/NNG 으로/JKB 두/VV 는/ETM 경우/NNG 가/JKS 많/VA 다/EF ./SF', 'text': '전임상 시험에서 동물에 테스트한 뒤 통과하면 사람을 대상으로 1상을 진행하는데, 안전성 검증을 최우선으로 두는 경우가 많다.'}, {'pos': '본격/NNG 적/XSN 으로/JKB 약/NNG 의/JKG 효능/NNG 을/JKO 알아보/VV 는/ETM 단계/NNG 는/JX 임상/NNG 2/SN 상/NNG 이/VCP 며/EC ,/SP 평균/NNG 적/XSN 으로/JKB 1/SN ∼/SO 2/SN 년/NNB 이/JKS 걸리/VV ㄴ다/EF ./SF', 'text': '본격적으로 약의 효능을 알아보는 단계는 임상 2상이며, 평균적으로 1∼2년이 걸린다.'}, {'pos': '효능/NNG 이/JKS 어느/MM 정도/NNG 입증/NNG 되/XSV ㄴ/ETM 약/NNG 을/JKO 대상/NNG 으로/JKB 마지막/NNG 검증/NNG 하/XSV 는/ETM 단계/NNG 는/JX 임상/NNG 3/SN 상/NNG 이/VCP ㄴ데/EC ,/SP 평균/NNG 적/XSN 으로/JKB 3/SN ∼/SO 5/SN 년/NNB 이/JKS 소요/NNG 되/XSV 며/EC ,/SP 이/MM 과정/NNG 을/JKO 통과/NNG 하/XSV 아야/EC 만/JX 신약/NNG 허가/NNG 를/JKO 하/VV 아/EC 달/VX 라고/EC 식품의약품안전처/NNG 에/JKB 신청/NNG 하/XSV ㄹ/ETM 수/NNB 있/VA 다/EF ./SF', 'text': '효능이 어느 정도 입증된 약을 대상으로 마지막 검증하는 단계는 임상 3상인데, 평균적으로 3∼5년이 소요되며, 이 과정을 통과해야만 신약 허가를 해달라고 식품의약품안전처에 신청할 수 있다.'}, {'pos': '한국제약바이오협회/NNG 의/JKG 말/NNG 을/JKO 들/VV 어/EC 보/VX 면/EC 의약품/NNG 후보물질/NNG 이/JKS 임상/NNG 1/SN 상/NNG 을/JKO 통과/NNG 하/XSV 아/EC 신약/NNG 허가승인/NNG 에/JKB 도달/NNG 하/XSV 는/ETM 비율/NNG 은/JX 평균/NNG 9/SN ./SF 6/SN %/SW 에/JKB 불과/XR 하/XSA 다/EF ./SF', 'text': '한국제약바이오협회의 말을 들어보면 의약품 후보물질이 임상 1상을 통과해 신약 허가승인에 도달하는 비율은 평균 9.6%에 불과하다.'}, {'pos': '임상/NNG 3/SN 상/XSN 에/JKB 착수/NNG 하/XSV 아도/EC 신약/NNG 허가/NNG 신청/NNG 으로/JKB 이어지/VV 는/ETM 비율/NNG 이/JKS 60/SN %/SW 도/JX 되/VV 지/EC 않/VX 는다/EF ./SF', 'text': '임상 3상에 착수해도 신약 허가 신청으로 이어지는 비율이 60%도 되지 않는다.'}, {'pos': '제약바/NNG 이/VCP 오/EC 기업/NNG 들/XSN 의/JKG 신약개발/NNG 성과/NNG 홍보/NNG 가/JKS 실제/NNG 코로나/NNG 19/SN 의약품/NNG 개발/NNG 의/JKG 국내/NNG 현황/NNG 과/JC 괴리/NNG 가/JKS 있/VA 다는/ETM 지적/NNG 이/JKS 나오/VV 는/ETM 까닭/NNG 이/VCP 다/EF ./SF', 'text': '제약바이오 기업들의 신약개발 성과 홍보가 실제 코로나19 의약품 개발의 국내 현황과 괴리가 있다는 지적이 나오는 까닭이다.'}, {'pos': '한/MM 제약업계/NNG 관계자/NNG 는/JX \"/SS 초기/NNG 실험/NNG 성공/NNG 자료/NNG 만/JX 내/VV 아도/EC 주가/NNG 가/JKS 급등/NNG 하/XSV 다/EC 보/VX 니/EC 자잘/XR 하/XSA ㄴ/ETM 중간결과/NNG 발표/NNG 도/JX 놓치/VV ㄹ/ETM 수/NNB 없/VA 다/EF \"/SS 이/VCP 며/EC \"/SS 테마주/NNG 가/JKS 유행/NNG 하/XSV 는/ETM 국내/NNG 주식시장/NNG 의/JKG 특성/NNG 때문/NNB 에/JKB 의미/NNG 없/VA 는/ETM 성과/NNG 이/VCP 라도/EC 코로나/NNG 19/SN 를/JKO 끼/VV 어/EC 넣/VV 은/ETM 부풀리/VV ㄴ/ETM 홍보/NNG 를/JKO 하/VV 게/EC 되/VV ㄴ다/EF \"/SS 고/JKQ 말/NNG 하/XSV 았/EP 다/EF ./SF', 'text': '한 제약업계 관계자는 \"초기 실험 성공 자료만 내도 주가가 급등하다 보니 자잘한 중간결과 발표도 놓칠 수 없다\"며 \"테마주가 유행하는 국내 주식시장의 특성 때문에 의미 없는 성과라도 코로나19를 끼워 넣은 부풀린 홍보를 하게 된다\"고 말했다.'}, {'pos': '이/MM 관계자/NNG 는/JX \"/SS 정말/MAG 의미/NNG 있/VA 는/ETM 임상/NNG 허가/NNG 및/MAG 자료/NNG 만/JX 내/VV 는/ETM 기업/NNG 의/JKG 경우/NNG \\'/SS 왜/MAG 홍보/NNG 를/JKO 게을리/NNG 하/XSA 냐/EF \\'/SS 는/JX 주주/NNG 들/XSN 의/JKG 항의/NNG 에/JKB 전화기/NNG 가/JKS 조용/XR 하/XSA ㄴ/ETM 날/NNG 이/JKS 없/VA 다/EF \"/SS 고/JKQ 밝히/VV 었/EP 다/EF ./SF', 'text': '이 관계자는 \"정말 의미 있는 임상 허가 및 자료만 내는 기업의 경우 \\'왜 홍보를 게을리하냐\\'는 주주들의 항의에 전화기가 조용한 날이 없다\"고 밝혔다.'}, {'pos': '김우주/NNG 고대구로병원/NNG 감염내/NNG 과/JC 교수/NNG 는/JX \"/SS 같/VA 은/ETM 코로나바이러스/NNP 이/VCP ㄴ/ETM 사스/NNG ,/SP 메르스/NNG 유행/NNG 당시/NNG 치료제/NNG 및/MAG 백신/NNG 개발/NNG 에/JKB 도전/NNG 하/XSV 지/EC 않/VX 았/EP 던/ETM 업체/NNG 들/XSN 이/JKS 하루아침/NNG 에/JKB 코로나/NNG 19/SN 신약/NNG 을/JKO 만들/VV 어/EC 내/VX ㄹ/ETM 수/NNB 는/JX 없/VA 다/EF \"/SS 고/JKQ 꼬집/VV 었/EP 다/EF ./SF', 'text': '김우주 고대구로병원 감염내과 교수는 \"같은 코로나바이러스인 사스, 메르스 유행 당시 치료제 및 백신 개발에 도전하지 않았던 업체들이 하루아침에 코로나19 신약을 만들어낼 수는 없다\"고 꼬집었다.'}, {'pos': '김/NNP 교수/NNG 는/JX \"/SS 제약사/NNG 들/XSN 의/JKG 발표/NNG 가/JKS 국민/NNG 에게/JKB 희망/NNG 을/JKO 주/VV 는/ETM 것/NNB ㄴ/JX 맞/VV 지만/EC ,/SP 평균/NNG 적/XSN 으로/JKB 15/SN 년/NNB 이상/NNG 걸리/VV 는/ETM 치료제/NNG 나/JC 백신/NNG 이/JKS 그/MM 희망/NNG 만/JX 으로/JKB 만들/VV 어/EC 지/VX 는/ETM 것/NNB ㄴ/JX 아니/VCN 다/EF \"/SS 라고/JKQ 지적/NNG 하/XSV 았/EP 다/EF ./SF', 'text': '김 교수는 \"제약사들의 발표가 국민에게 희망을 주는 건 맞지만, 평균적으로 15년 이상 걸리는 치료제나 백신이 그 희망만으로 만들어지는 건 아니다\"라고 지적했다.'}], 'docid': '-3503HMBlGlNtDLpKHwi', 'publisher': '영남일보', 'section': '', 'title': {'pos': '제약업계/NNG 코로나/NNG 상술/NNG 도넘/NNG 이/VCP 었/EP 다/EF …/SE 설익/VV 은/ETM 자료/NNG 로/JKB 주가부양/NNG `/SS 혈안/NNG `/SS', 'text': '제약업계 코로나 상술 도넘었다…설익은 자료로 주가부양 `혈안`'}, 'region': [], 'pubDate': '2020-08-01 06:46:34', 'url': 'http://www.yeongnam.com/web/view.php?key=20200801000645368', 'imported': '', 'category': ['기술']}\n"
     ]
    }
   ],
   "source": [
    "\n",
    "for file_json in file_list_json :\n",
    "    \n",
    "    # with를 이용해 파일을 연다.\n",
    "    with open(file_json, encoding='utf-8') as json_file:\n",
    "        json_data = json.load(json_file)\n",
    "\n",
    "#         print(len(json_data['contents']))\n",
    "        for content in json_data['contents'] :\n",
    "#             print(content['text'])\n"
   ]
  },
  {
   "cell_type": "code",
   "execution_count": 60,
   "metadata": {},
   "outputs": [
    {
     "data": {
      "text/plain": [
       "[1, 2, 3, 4, 5]"
      ]
     },
     "execution_count": 60,
     "metadata": {},
     "output_type": "execute_result"
    }
   ],
   "source": [
    "a = [1,2,3]\n",
    "b=[4,5]\n",
    "\n",
    "a+b"
   ]
  },
  {
   "cell_type": "code",
   "execution_count": null,
   "metadata": {},
   "outputs": [],
   "source": []
  }
 ],
 "metadata": {
  "kernelspec": {
   "display_name": "deep1:conda",
   "language": "python",
   "name": "deep1"
  },
  "language_info": {
   "codemirror_mode": {
    "name": "ipython",
    "version": 3
   },
   "file_extension": ".py",
   "mimetype": "text/x-python",
   "name": "python",
   "nbconvert_exporter": "python",
   "pygments_lexer": "ipython3",
   "version": "3.8.5"
  }
 },
 "nbformat": 4,
 "nbformat_minor": 2
}
