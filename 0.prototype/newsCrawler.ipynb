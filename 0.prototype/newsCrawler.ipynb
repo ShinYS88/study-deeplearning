{
 "cells": [
  {
   "cell_type": "code",
   "execution_count": 3,
   "metadata": {},
   "outputs": [
    {
     "data": {
      "text/plain": [
       "21194"
      ]
     },
     "execution_count": 3,
     "metadata": {},
     "output_type": "execute_result"
    }
   ],
   "source": [
    "import pandas as pd\n",
    "import numpy as np\n",
    "\n",
    "import json\n",
    "import os\n",
    "import glob\n",
    "from IPython.display import clear_output\n",
    "\n",
    "path_dir = 'data/news/2020-07/*'\n",
    "file_list = glob.glob(path_dir)\n",
    "file_list_json = []\n",
    "# file_list_json.extend([file for file in file_list if file.endswith(\".json\")])\n",
    "\n",
    "\n",
    "for path in file_list :\n",
    "    file_list2 = glob.glob(path+'/*')\n",
    "    file_list_json.extend([file for file in file_list2 if file.endswith(\".json\")])\n",
    "    \n",
    "    # 1:59시작 / \n",
    "\n",
    "    \n",
    "len(file_list_json)"
   ]
  },
  {
   "cell_type": "markdown",
   "metadata": {},
   "source": [
    "## 문장별로 저장"
   ]
  },
  {
   "cell_type": "code",
   "execution_count": 10,
   "metadata": {},
   "outputs": [
    {
     "name": "stdout",
     "output_type": "stream",
     "text": [
      "running...   [2510 / 25053] (10.019 %)\n"
     ]
    },
    {
     "data": {
      "text/html": [
       "<div>\n",
       "<style scoped>\n",
       "    .dataframe tbody tr th:only-of-type {\n",
       "        vertical-align: middle;\n",
       "    }\n",
       "\n",
       "    .dataframe tbody tr th {\n",
       "        vertical-align: top;\n",
       "    }\n",
       "\n",
       "    .dataframe thead th {\n",
       "        text-align: right;\n",
       "    }\n",
       "</style>\n",
       "<table border=\"1\" class=\"dataframe\">\n",
       "  <thead>\n",
       "    <tr style=\"text-align: right;\">\n",
       "      <th></th>\n",
       "      <th>본문</th>\n",
       "    </tr>\n",
       "  </thead>\n",
       "  <tbody>\n",
       "    <tr>\n",
       "      <th>0</th>\n",
       "      <td>신종 코로나바이러스 감염증(코로나19) 유행 이후 제약·바이오 업체의 '코로나19 ...</td>\n",
       "    </tr>\n",
       "    <tr>\n",
       "      <th>1</th>\n",
       "      <td>1일 제약바이오업계에 따르면 업체들은 코로나19 신약 개발이나 약물 재창출 연구와 ...</td>\n",
       "    </tr>\n",
       "    <tr>\n",
       "      <th>2</th>\n",
       "      <td>포털에 이름이 올라가면 주가가 급등하는 현상을 노리는 것이다.</td>\n",
       "    </tr>\n",
       "    <tr>\n",
       "      <th>3</th>\n",
       "      <td>이에 제약사들은 전임상 단계인 동물실험이나 시험관 내 세포 실험(인 비트로) 중간결...</td>\n",
       "    </tr>\n",
       "    <tr>\n",
       "      <th>4</th>\n",
       "      <td>급기야 의약품 사용 승인이 미뤄졌지만, 자체 성능 평가는 훌륭했다는 자기변명 식의 ...</td>\n",
       "    </tr>\n",
       "  </tbody>\n",
       "</table>\n",
       "</div>"
      ],
      "text/plain": [
       "                                                  본문\n",
       "0  신종 코로나바이러스 감염증(코로나19) 유행 이후 제약·바이오 업체의 '코로나19 ...\n",
       "1  1일 제약바이오업계에 따르면 업체들은 코로나19 신약 개발이나 약물 재창출 연구와 ...\n",
       "2                 포털에 이름이 올라가면 주가가 급등하는 현상을 노리는 것이다.\n",
       "3  이에 제약사들은 전임상 단계인 동물실험이나 시험관 내 세포 실험(인 비트로) 중간결...\n",
       "4  급기야 의약품 사용 승인이 미뤄졌지만, 자체 성능 평가는 훌륭했다는 자기변명 식의 ..."
      ]
     },
     "execution_count": 10,
     "metadata": {},
     "output_type": "execute_result"
    }
   ],
   "source": [
    "### 문장별로 저장\n",
    "\n",
    "columns = ['본문','형태소']\n",
    "df = pd.DataFrame(columns=columns)\n",
    "\n",
    "for ii, file_json in enumerate(file_list_json) :\n",
    "    \n",
    "    i = ii+1\n",
    "    \n",
    "    # with를 이용해 파일을 연다.\n",
    "    with open(file_json, encoding='utf-8') as json_file:\n",
    "        json_data = json.load(json_file)\n",
    "        for content in json_data['contents'] :\n",
    "            row = [content['text'],content['pos']]\n",
    "            series = pd.Series(row, index=df.columns)\n",
    "            df = df.append(series, ignore_index=True)\n",
    "            \n",
    "        if(i%10 == 0) :\n",
    "            clear_output(wait=True)\n",
    "            print(f'running...   [{i} / {len(file_list_json)}] ({round((i/len(file_list_json))*100, 3)} %)')\n",
    "            \n",
    "#             if(round((i/len(file_list_json))*100, 3) > 10) :\n",
    "#                 break\n",
    "\n",
    "df.head()"
   ]
  },
  {
   "cell_type": "markdown",
   "metadata": {},
   "source": [
    "## 뉴스별로 저장"
   ]
  },
  {
   "cell_type": "code",
   "execution_count": 4,
   "metadata": {},
   "outputs": [
    {
     "name": "stdout",
     "output_type": "stream",
     "text": [
      "running...   [21190 / 21194] (99.981 %)\n"
     ]
    },
    {
     "data": {
      "text/html": [
       "<div>\n",
       "<style scoped>\n",
       "    .dataframe tbody tr th:only-of-type {\n",
       "        vertical-align: middle;\n",
       "    }\n",
       "\n",
       "    .dataframe tbody tr th {\n",
       "        vertical-align: top;\n",
       "    }\n",
       "\n",
       "    .dataframe thead th {\n",
       "        text-align: right;\n",
       "    }\n",
       "</style>\n",
       "<table border=\"1\" class=\"dataframe\">\n",
       "  <thead>\n",
       "    <tr style=\"text-align: right;\">\n",
       "      <th></th>\n",
       "      <th>본문</th>\n",
       "      <th>형태소</th>\n",
       "    </tr>\n",
       "  </thead>\n",
       "  <tbody>\n",
       "    <tr>\n",
       "      <th>0</th>\n",
       "      <td>인천해양경찰서(서장 신동삼)는 도서 지역 치안 강화를 위해 인천 중부경찰서와 지난...</td>\n",
       "      <td>인천해양경찰/NNG 서/JKB (/SS 서장/NNG 신동삼/NNG )/SS 는/J...</td>\n",
       "    </tr>\n",
       "    <tr>\n",
       "      <th>1</th>\n",
       "      <td>작년말 대비 두 배 가까이 늘어 지난달 26일 하룻새 4조 급증 SK바이오팜 청약...</td>\n",
       "      <td>작년/NNG 말/NNB 대비/NNG 두/MM 배/NNG 가까이/MAG 늘/VV 어...</td>\n",
       "    </tr>\n",
       "    <tr>\n",
       "      <th>2</th>\n",
       "      <td>［중부매일 서인석 기자］ 이차영 괴산군수가 1일 열린 직원조회에서 민선 7기 2년...</td>\n",
       "      <td>［/SL 중부매/NNG 이/VCP ㄹ/ETM 서인석/NNP 기자/NNG ］/SL ...</td>\n",
       "    </tr>\n",
       "    <tr>\n",
       "      <th>3</th>\n",
       "      <td>라임자산운용(라임)의 1조6000억원 펀드 환매 중단 사건을 수사 중인 검찰이 1...</td>\n",
       "      <td>라임자산운/NNG 용/XSN (/SS 라임/NNG )/SS 의/JKG 1/SN 조...</td>\n",
       "    </tr>\n",
       "    <tr>\n",
       "      <th>4</th>\n",
       "      <td>시모네타 소마루가 스위스 대통령 [EPA=연합뉴스 자료사진] . (제네바=연합뉴스...</td>\n",
       "      <td>시모네/NNG 하/XSA 다/EC 소마루/NNG 가/JKS 스위스/NNP 대통령/...</td>\n",
       "    </tr>\n",
       "  </tbody>\n",
       "</table>\n",
       "</div>"
      ],
      "text/plain": [
       "                                                  본문  \\\n",
       "0   인천해양경찰서(서장 신동삼)는 도서 지역 치안 강화를 위해 인천 중부경찰서와 지난...   \n",
       "1   작년말 대비 두 배 가까이 늘어 지난달 26일 하룻새 4조 급증 SK바이오팜 청약...   \n",
       "2   ［중부매일 서인석 기자］ 이차영 괴산군수가 1일 열린 직원조회에서 민선 7기 2년...   \n",
       "3   라임자산운용(라임)의 1조6000억원 펀드 환매 중단 사건을 수사 중인 검찰이 1...   \n",
       "4   시모네타 소마루가 스위스 대통령 [EPA=연합뉴스 자료사진] . (제네바=연합뉴스...   \n",
       "\n",
       "                                                 형태소  \n",
       "0   인천해양경찰/NNG 서/JKB (/SS 서장/NNG 신동삼/NNG )/SS 는/J...  \n",
       "1   작년/NNG 말/NNB 대비/NNG 두/MM 배/NNG 가까이/MAG 늘/VV 어...  \n",
       "2   ［/SL 중부매/NNG 이/VCP ㄹ/ETM 서인석/NNP 기자/NNG ］/SL ...  \n",
       "3   라임자산운/NNG 용/XSN (/SS 라임/NNG )/SS 의/JKG 1/SN 조...  \n",
       "4   시모네/NNG 하/XSA 다/EC 소마루/NNG 가/JKS 스위스/NNP 대통령/...  "
      ]
     },
     "execution_count": 4,
     "metadata": {},
     "output_type": "execute_result"
    }
   ],
   "source": [
    "#### 뉴스별로 저장\n",
    "\n",
    "columns = ['본문','형태소']\n",
    "df = pd.DataFrame(columns=columns)\n",
    "\n",
    "for ii, file_json in enumerate(file_list_json) :\n",
    "    \n",
    "    i = ii+1\n",
    "    \n",
    "    tmp_text = ''\n",
    "    tmp_pos = ''\n",
    "    \n",
    "    # with를 이용해 파일을 연다.\n",
    "    with open(file_json, encoding='utf-8') as json_file:\n",
    "        json_data = json.load(json_file)\n",
    "        for content in json_data['contents'] :\n",
    "            tmp_text += ' '+content['text']\n",
    "            tmp_pos += ' '+content['pos']\n",
    "            \n",
    "    row = [tmp_text, tmp_pos]\n",
    "    series = pd.Series(row, index=df.columns)\n",
    "    df = df.append(series, ignore_index=True)\n",
    "    \n",
    "    if(i%10 == 0) :\n",
    "        clear_output(wait=True)\n",
    "        print(f'running...   [{i} / {len(file_list_json)}] ({round((i/len(file_list_json))*100, 3)} %)')\n",
    "\n",
    "#         if(round((i/len(file_list_json))*100, 3) > 10) :\n",
    "#             break\n",
    "\n",
    "df.head()"
   ]
  },
  {
   "cell_type": "code",
   "execution_count": 5,
   "metadata": {},
   "outputs": [],
   "source": [
    "# csv파일로 저장\n",
    "df.to_csv('news_data_ori_0701_0705.csv', index=False)"
   ]
  },
  {
   "cell_type": "code",
   "execution_count": 6,
   "metadata": {},
   "outputs": [
    {
     "data": {
      "text/plain": [
       "21194"
      ]
     },
     "execution_count": 6,
     "metadata": {},
     "output_type": "execute_result"
    }
   ],
   "source": [
    "df.shape[0]"
   ]
  },
  {
   "cell_type": "code",
   "execution_count": null,
   "metadata": {},
   "outputs": [],
   "source": []
  }
 ],
 "metadata": {
  "kernelspec": {
   "display_name": "deep1:conda",
   "language": "python",
   "name": "deep1"
  },
  "language_info": {
   "codemirror_mode": {
    "name": "ipython",
    "version": 3
   },
   "file_extension": ".py",
   "mimetype": "text/x-python",
   "name": "python",
   "nbconvert_exporter": "python",
   "pygments_lexer": "ipython3",
   "version": "3.8.5"
  }
 },
 "nbformat": 4,
 "nbformat_minor": 2
}
