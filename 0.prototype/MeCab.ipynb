{
 "cells": [
  {
   "cell_type": "code",
   "execution_count": null,
   "metadata": {},
   "outputs": [],
   "source": [
    "# KoNlpy =======================================================================================================================================\n",
    "#konlpy 문서 : https://konlpy-ko.readthedocs.io/ko/v0.4.3/api/konlpy.tag/\n",
    "#형태소 분석기 별 비교 : https://konlpy.org/ko/latest/morph/#comparison-between-pos-tagging-classes\n",
    "#형태소 분석 태그정리 : https://docs.google.com/spreadsheets/d/1OGAjUvalBuX-oZvZ_-9tEfYD2gQe7hTGsgUpiiBSXI8/edit#gid=0\n",
    "#사전 튜닝 : https://cromboltz.tistory.com/18\n",
    "\n",
    "# Mecab(Windows) ===============================================================================================================================\n",
    "# Mecab pip(pyeunjeon) 설치 :  https://m.blog.naver.com/PostView.nhn?blogId=aul-_-&logNo=221557243190&proxyReferer=https:%2F%2Fwww.google.com%2F\n",
    "# Mecab 윈도우 설치1 (pip pyeunjeon 설치) : https://joyhong.tistory.com/129\n",
    "# Mecab 윈도우 설치2 (pip Mecab 파일 직접 설치) : https://joyhong.tistory.com/127\n",
    "\n",
    "# Mecab 사용자 사전 추가하기 : https://joyhong.tistory.com/128\n",
    "# 우선순위 올리기 : https://developersp.tistory.com/16\n",
    "\n",
    "#===============================================================================================================================================\n",
    "\n",
    "try:\n",
    "    from eunjeon import Mecab\n",
    "except:\n",
    "    !pip install eunjeon\n",
    "    from eunjeon import Mecab\n",
    "\n",
    "# tagger=Mecab()\n",
    "# tagger=Mecab(dicpath='D:/DEV/python/workspace_python/python1/0.prototype/lib/mecab/mecab-ko-dic')\n"
   ]
  },
  {
   "cell_type": "code",
   "execution_count": null,
   "metadata": {},
   "outputs": [],
   "source": [
    "#사용자 사전 적용전\n",
    "\n",
    "tagger=Mecab()"
   ]
  },
  {
   "cell_type": "code",
   "execution_count": 4,
   "metadata": {},
   "outputs": [
    {
     "name": "stdout",
     "output_type": "stream",
     "text": [
      "[('코로나', 'NNP'), ('19', 'SN'), ('테스트', 'NNG')]\n",
      "[('코로나', 'NNP'), ('29', 'SN'), ('테스트', 'NNG')]\n"
     ]
    }
   ],
   "source": [
    "text = \"코로나19 테스트\"\n",
    "out = tagger.pos(text)\n",
    "print(out)\n",
    "\n",
    "text = \"코로나29 테스트\"\n",
    "out = tagger.pos(text)\n",
    "print(out)\n"
   ]
  },
  {
   "cell_type": "code",
   "execution_count": 5,
   "metadata": {},
   "outputs": [],
   "source": [
    "#사용자 사전 적용 후 (코로나19, 코로나29 추가함.)\n",
    "\n",
    "tagger=Mecab(dicpath='D:/DEV/python/workspace_python/python1/0.prototype/lib/mecab/mecab-ko-dic')"
   ]
  },
  {
   "cell_type": "code",
   "execution_count": 6,
   "metadata": {},
   "outputs": [
    {
     "name": "stdout",
     "output_type": "stream",
     "text": [
      "[('코로나19', 'NNP'), ('테스트', 'NNG')]\n",
      "[('코로나29', 'NNP'), ('테스트', 'NNG')]\n"
     ]
    }
   ],
   "source": [
    "text = \"코로나19 테스트\"\n",
    "out = tagger.pos(text)\n",
    "print(out)\n",
    "\n",
    "text = \"코로나29 테스트\"\n",
    "out = tagger.pos(text)\n",
    "print(out)\n"
   ]
  },
  {
   "cell_type": "code",
   "execution_count": 6,
   "metadata": {},
   "outputs": [
    {
     "name": "stdin",
     "output_type": "stream",
     "text": [
      "INPUT>> 추가확진자\n"
     ]
    },
    {
     "name": "stdout",
     "output_type": "stream",
     "text": [
      "[('추가', 'NNG'), ('확진', 'NNG'), ('자', 'XSN')]\n"
     ]
    }
   ],
   "source": [
    "# i = 0\n",
    "# while i < 5:\n",
    "text=input('INPUT>>')\n",
    "out = tagger.pos(text)\n",
    "print(out)\n",
    "#     i += 1\n",
    "    "
   ]
  },
  {
   "cell_type": "code",
   "execution_count": 9,
   "metadata": {},
   "outputs": [
    {
     "name": "stdin",
     "output_type": "stream",
     "text": [
      "INPUT>> 추가확  진자\n"
     ]
    },
    {
     "name": "stdout",
     "output_type": "stream",
     "text": [
      "[('추가', 'NNG'), ('확', 'MAG'), ('진자', 'NNG')]\n"
     ]
    }
   ],
   "source": [
    "# i = 0\n",
    "# while i < 5:\n",
    "text=input('INPUT>>')\n",
    "out = tagger.pos(text)\n",
    "print(out)\n",
    "#     i += 1\n",
    "    "
   ]
  },
  {
   "cell_type": "code",
   "execution_count": null,
   "metadata": {},
   "outputs": [],
   "source": []
  }
 ],
 "metadata": {
  "kernelspec": {
   "display_name": "deep2:conda",
   "language": "python",
   "name": "deep2"
  },
  "language_info": {
   "codemirror_mode": {
    "name": "ipython",
    "version": 3
   },
   "file_extension": ".py",
   "mimetype": "text/x-python",
   "name": "python",
   "nbconvert_exporter": "python",
   "pygments_lexer": "ipython3",
   "version": "3.6.12"
  }
 },
 "nbformat": 4,
 "nbformat_minor": 2
}
